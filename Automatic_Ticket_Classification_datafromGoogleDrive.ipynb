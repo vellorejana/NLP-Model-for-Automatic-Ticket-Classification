{
  "nbformat": 4,
  "nbformat_minor": 0,
  "metadata": {
    "accelerator": "GPU",
    "colab": {
      "name": "Automatic_Ticket_Classification.ipynb",
      "provenance": [],
      "collapsed_sections": []
    },
    "kernelspec": {
      "display_name": "Python 3",
      "language": "python",
      "name": "python3"
    },
    "language_info": {
      "codemirror_mode": {
        "name": "ipython",
        "version": 3
      },
      "file_extension": ".py",
      "mimetype": "text/x-python",
      "name": "python",
      "nbconvert_exporter": "python",
      "pygments_lexer": "ipython3",
      "version": "3.8.5"
    }
  },
  "cells": [
    {
      "cell_type": "markdown",
      "metadata": {
        "id": "XiWkqR6nCroy"
      },
      "source": [
        "# **Automatic Ticket Classification**\n",
        "### CaseStudy By : Janarthanan Mani & Mohammed Faheem Uddin"
      ]
    },
    {
      "cell_type": "markdown",
      "metadata": {
        "id": "mcgXVNyaLUFS"
      },
      "source": [
        "## Pipelines that needs to be performed:\n",
        "\n",
        "You need to perform the following eight major tasks to complete the assignment:\n",
        "\n",
        "1.  Data loading\n",
        "\n",
        "2. Text preprocessing\n",
        "\n",
        "3. Exploratory data analysis (EDA)\n",
        "\n",
        "4. Feature extraction\n",
        "\n",
        "5. Topic modelling \n",
        "\n",
        "6. Model building using supervised learning\n",
        "\n",
        "7. Model training and evaluation\n",
        "\n",
        "8. Model inference"
      ]
    },
    {
      "cell_type": "markdown",
      "metadata": {
        "id": "rhR-ZUkwJrFn"
      },
      "source": [
        "## Problem Statement \n",
        "\n",
        "You need to build a model that is able to classify customer complaints based on the products/services. By doing so, you can segregate these tickets into their relevant categories and, therefore, help in the quick resolution of the issue.\n",
        "\n",
        "You will be doing topic modelling on the <b>.json</b> data provided by the company. Since this data is not labelled, you need to apply NMF to analyse patterns and classify tickets into the following five clusters based on their products/services:\n",
        "\n",
        "* Credit card / Prepaid card\n",
        "\n",
        "* Bank account services\n",
        "\n",
        "* Theft/Dispute reporting\n",
        "\n",
        "* Mortgages/loans\n",
        "\n",
        "* Others \n",
        "\n",
        "\n",
        "With the help of topic modelling, you will be able to map each ticket onto its respective department/category. You can then use this data to train any supervised model such as logistic regression, decision tree or random forest. Using this trained model, you can classify any new customer complaint support ticket into its relevant department."
      ]
    },
    {
      "cell_type": "markdown",
      "metadata": {
        "id": "JuLFIymAL58u"
      },
      "source": [
        "## Importing the necessary libraries"
      ]
    },
    {
      "cell_type": "code",
      "metadata": {
        "colab": {
          "base_uri": "https://localhost:8080/"
        },
        "id": "O-Q9pqrcJrFr",
        "outputId": "dca6d9fb-afe5-4996-ecdc-cd6de0f3c8f5"
      },
      "source": [
        "import json\n",
        "import numpy as np\n",
        "import pandas as pd\n",
        "import re, nltk, spacy, string\n",
        "import en_core_web_sm\n",
        "nlp = en_core_web_sm.load()\n",
        "import seaborn as sns\n",
        "import matplotlib.pyplot as plt\n",
        "%matplotlib inline\n",
        "\n",
        "from plotly.offline import plot\n",
        "import plotly.graph_objects as go\n",
        "import plotly.express as px\n",
        "\n",
        "from sklearn import decomposition\n",
        "from sklearn.feature_extraction.text import CountVectorizer, TfidfVectorizer\n",
        "from pprint import pprint\n",
        "\n",
        "from nltk.stem import WordNetLemmatizer\n",
        "from nltk.corpus import stopwords\n",
        "from nltk.tokenize import word_tokenize\n",
        "\n",
        "import warnings\n",
        "warnings.filterwarnings(\"ignore\")\n",
        "\n",
        "nltk.download('wordnet')\n",
        "nltk.download('stopwords')\n",
        "nltk.download('punkt')"
      ],
      "execution_count": 16,
      "outputs": [
        {
          "output_type": "stream",
          "name": "stdout",
          "text": [
            "[nltk_data] Downloading package wordnet to /root/nltk_data...\n",
            "[nltk_data]   Package wordnet is already up-to-date!\n",
            "[nltk_data] Downloading package stopwords to /root/nltk_data...\n",
            "[nltk_data]   Package stopwords is already up-to-date!\n",
            "[nltk_data] Downloading package punkt to /root/nltk_data...\n",
            "[nltk_data]   Package punkt is already up-to-date!\n"
          ]
        },
        {
          "output_type": "execute_result",
          "data": {
            "text/plain": [
              "True"
            ]
          },
          "metadata": {},
          "execution_count": 16
        }
      ]
    },
    {
      "cell_type": "code",
      "metadata": {
        "id": "j5cPqAo4lHvE"
      },
      "source": [
        "from google.colab import files\n",
        "uploaded = files.upload()"
      ],
      "execution_count": null,
      "outputs": []
    },
    {
      "cell_type": "code",
      "metadata": {
        "colab": {
          "base_uri": "https://localhost:8080/"
        },
        "id": "pa_7ytmsci2j",
        "outputId": "e5b2b4f5-2058-4e14-8a74-5337fff9268f"
      },
      "source": [
        "!gdown --id 1Y4Yzh1uTLIBLnJq1_QvoosFx9giiR1_K"
      ],
      "execution_count": 17,
      "outputs": [
        {
          "output_type": "stream",
          "name": "stdout",
          "text": [
            "Downloading...\n",
            "From: https://drive.google.com/uc?id=1Y4Yzh1uTLIBLnJq1_QvoosFx9giiR1_K\n",
            "To: /content/complaints-2021-05-14_08_16.json\n",
            "100% 83.4M/83.4M [00:00<00:00, 201MB/s]\n"
          ]
        }
      ]
    },
    {
      "cell_type": "markdown",
      "metadata": {
        "id": "KtRLCsNVJrFt"
      },
      "source": [
        "## Loading the data\n",
        "\n",
        "The data is in JSON format and we need to convert it to a dataframe."
      ]
    },
    {
      "cell_type": "code",
      "metadata": {
        "id": "puVzIf_iJrFt"
      },
      "source": [
        "# Opening JSON file \n",
        "f = open('/content/complaints-2021-05-14_08_16.json')   \n",
        "# Write the path to your data file and load it  \n",
        "# returns JSON object as  \n",
        "# a dictionary \n"
      ],
      "execution_count": 18,
      "outputs": []
    },
    {
      "cell_type": "markdown",
      "metadata": {
        "id": "_xYpH-sAJrFu"
      },
      "source": [
        "## Data preparation"
      ]
    },
    {
      "cell_type": "code",
      "metadata": {
        "id": "FnnlfiT9mzCf"
      },
      "source": [
        "data = json.load(f)\n",
        "df = pd.json_normalize(data)"
      ],
      "execution_count": 19,
      "outputs": []
    },
    {
      "cell_type": "code",
      "metadata": {
        "colab": {
          "base_uri": "https://localhost:8080/",
          "height": 634
        },
        "id": "Lf8ufHH5JrFu",
        "outputId": "a9ebb41b-631f-438e-b8e5-d8d500a00359"
      },
      "source": [
        "# Inspect the dataframe to understand the given data.\n",
        "df.head(10)\n"
      ],
      "execution_count": 20,
      "outputs": [
        {
          "output_type": "execute_result",
          "data": {
            "text/html": [
              "<div>\n",
              "<style scoped>\n",
              "    .dataframe tbody tr th:only-of-type {\n",
              "        vertical-align: middle;\n",
              "    }\n",
              "\n",
              "    .dataframe tbody tr th {\n",
              "        vertical-align: top;\n",
              "    }\n",
              "\n",
              "    .dataframe thead th {\n",
              "        text-align: right;\n",
              "    }\n",
              "</style>\n",
              "<table border=\"1\" class=\"dataframe\">\n",
              "  <thead>\n",
              "    <tr style=\"text-align: right;\">\n",
              "      <th></th>\n",
              "      <th>_index</th>\n",
              "      <th>_type</th>\n",
              "      <th>_id</th>\n",
              "      <th>_score</th>\n",
              "      <th>_source.tags</th>\n",
              "      <th>_source.zip_code</th>\n",
              "      <th>_source.complaint_id</th>\n",
              "      <th>_source.issue</th>\n",
              "      <th>_source.date_received</th>\n",
              "      <th>_source.state</th>\n",
              "      <th>_source.consumer_disputed</th>\n",
              "      <th>_source.product</th>\n",
              "      <th>_source.company_response</th>\n",
              "      <th>_source.company</th>\n",
              "      <th>_source.submitted_via</th>\n",
              "      <th>_source.date_sent_to_company</th>\n",
              "      <th>_source.company_public_response</th>\n",
              "      <th>_source.sub_product</th>\n",
              "      <th>_source.timely</th>\n",
              "      <th>_source.complaint_what_happened</th>\n",
              "      <th>_source.sub_issue</th>\n",
              "      <th>_source.consumer_consent_provided</th>\n",
              "    </tr>\n",
              "  </thead>\n",
              "  <tbody>\n",
              "    <tr>\n",
              "      <th>0</th>\n",
              "      <td>complaint-public-v2</td>\n",
              "      <td>complaint</td>\n",
              "      <td>3211475</td>\n",
              "      <td>0.0</td>\n",
              "      <td>None</td>\n",
              "      <td>90301</td>\n",
              "      <td>3211475</td>\n",
              "      <td>Attempts to collect debt not owed</td>\n",
              "      <td>2019-04-13T12:00:00-05:00</td>\n",
              "      <td>CA</td>\n",
              "      <td>N/A</td>\n",
              "      <td>Debt collection</td>\n",
              "      <td>Closed with explanation</td>\n",
              "      <td>JPMORGAN CHASE &amp; CO.</td>\n",
              "      <td>Web</td>\n",
              "      <td>2019-04-13T12:00:00-05:00</td>\n",
              "      <td>None</td>\n",
              "      <td>Credit card debt</td>\n",
              "      <td>Yes</td>\n",
              "      <td></td>\n",
              "      <td>Debt is not yours</td>\n",
              "      <td>Consent not provided</td>\n",
              "    </tr>\n",
              "    <tr>\n",
              "      <th>1</th>\n",
              "      <td>complaint-public-v2</td>\n",
              "      <td>complaint</td>\n",
              "      <td>3229299</td>\n",
              "      <td>0.0</td>\n",
              "      <td>Servicemember</td>\n",
              "      <td>319XX</td>\n",
              "      <td>3229299</td>\n",
              "      <td>Written notification about debt</td>\n",
              "      <td>2019-05-01T12:00:00-05:00</td>\n",
              "      <td>GA</td>\n",
              "      <td>N/A</td>\n",
              "      <td>Debt collection</td>\n",
              "      <td>Closed with explanation</td>\n",
              "      <td>JPMORGAN CHASE &amp; CO.</td>\n",
              "      <td>Web</td>\n",
              "      <td>2019-05-01T12:00:00-05:00</td>\n",
              "      <td>None</td>\n",
              "      <td>Credit card debt</td>\n",
              "      <td>Yes</td>\n",
              "      <td>Good morning my name is XXXX XXXX and I apprec...</td>\n",
              "      <td>Didn't receive enough information to verify debt</td>\n",
              "      <td>Consent provided</td>\n",
              "    </tr>\n",
              "    <tr>\n",
              "      <th>2</th>\n",
              "      <td>complaint-public-v2</td>\n",
              "      <td>complaint</td>\n",
              "      <td>3199379</td>\n",
              "      <td>0.0</td>\n",
              "      <td>None</td>\n",
              "      <td>77069</td>\n",
              "      <td>3199379</td>\n",
              "      <td>Other features, terms, or problems</td>\n",
              "      <td>2019-04-02T12:00:00-05:00</td>\n",
              "      <td>TX</td>\n",
              "      <td>N/A</td>\n",
              "      <td>Credit card or prepaid card</td>\n",
              "      <td>Closed with explanation</td>\n",
              "      <td>JPMORGAN CHASE &amp; CO.</td>\n",
              "      <td>Web</td>\n",
              "      <td>2019-04-02T12:00:00-05:00</td>\n",
              "      <td>None</td>\n",
              "      <td>General-purpose credit card or charge card</td>\n",
              "      <td>Yes</td>\n",
              "      <td>I upgraded my XXXX XXXX card in XX/XX/2018 and...</td>\n",
              "      <td>Problem with rewards from credit card</td>\n",
              "      <td>Consent provided</td>\n",
              "    </tr>\n",
              "    <tr>\n",
              "      <th>3</th>\n",
              "      <td>complaint-public-v2</td>\n",
              "      <td>complaint</td>\n",
              "      <td>2673060</td>\n",
              "      <td>0.0</td>\n",
              "      <td>None</td>\n",
              "      <td>48066</td>\n",
              "      <td>2673060</td>\n",
              "      <td>Trouble during payment process</td>\n",
              "      <td>2017-09-13T12:00:00-05:00</td>\n",
              "      <td>MI</td>\n",
              "      <td>N/A</td>\n",
              "      <td>Mortgage</td>\n",
              "      <td>Closed with explanation</td>\n",
              "      <td>JPMORGAN CHASE &amp; CO.</td>\n",
              "      <td>Web</td>\n",
              "      <td>2017-09-14T12:00:00-05:00</td>\n",
              "      <td>None</td>\n",
              "      <td>Conventional home mortgage</td>\n",
              "      <td>Yes</td>\n",
              "      <td></td>\n",
              "      <td>None</td>\n",
              "      <td>Consent not provided</td>\n",
              "    </tr>\n",
              "    <tr>\n",
              "      <th>4</th>\n",
              "      <td>complaint-public-v2</td>\n",
              "      <td>complaint</td>\n",
              "      <td>3203545</td>\n",
              "      <td>0.0</td>\n",
              "      <td>None</td>\n",
              "      <td>10473</td>\n",
              "      <td>3203545</td>\n",
              "      <td>Fees or interest</td>\n",
              "      <td>2019-04-05T12:00:00-05:00</td>\n",
              "      <td>NY</td>\n",
              "      <td>N/A</td>\n",
              "      <td>Credit card or prepaid card</td>\n",
              "      <td>Closed with explanation</td>\n",
              "      <td>JPMORGAN CHASE &amp; CO.</td>\n",
              "      <td>Referral</td>\n",
              "      <td>2019-04-05T12:00:00-05:00</td>\n",
              "      <td>None</td>\n",
              "      <td>General-purpose credit card or charge card</td>\n",
              "      <td>Yes</td>\n",
              "      <td></td>\n",
              "      <td>Charged too much interest</td>\n",
              "      <td>N/A</td>\n",
              "    </tr>\n",
              "    <tr>\n",
              "      <th>5</th>\n",
              "      <td>complaint-public-v2</td>\n",
              "      <td>complaint</td>\n",
              "      <td>3275312</td>\n",
              "      <td>0.0</td>\n",
              "      <td>Older American</td>\n",
              "      <td>48227</td>\n",
              "      <td>3275312</td>\n",
              "      <td>Managing an account</td>\n",
              "      <td>2019-06-13T12:00:00-05:00</td>\n",
              "      <td>MI</td>\n",
              "      <td>N/A</td>\n",
              "      <td>Checking or savings account</td>\n",
              "      <td>Closed with monetary relief</td>\n",
              "      <td>JPMORGAN CHASE &amp; CO.</td>\n",
              "      <td>Referral</td>\n",
              "      <td>2019-06-14T12:00:00-05:00</td>\n",
              "      <td>None</td>\n",
              "      <td>Checking account</td>\n",
              "      <td>Yes</td>\n",
              "      <td></td>\n",
              "      <td>Problem using a debit or ATM card</td>\n",
              "      <td>N/A</td>\n",
              "    </tr>\n",
              "    <tr>\n",
              "      <th>6</th>\n",
              "      <td>complaint-public-v2</td>\n",
              "      <td>complaint</td>\n",
              "      <td>3238804</td>\n",
              "      <td>0.0</td>\n",
              "      <td>None</td>\n",
              "      <td>76262</td>\n",
              "      <td>3238804</td>\n",
              "      <td>Managing an account</td>\n",
              "      <td>2019-05-10T12:00:00-05:00</td>\n",
              "      <td>TX</td>\n",
              "      <td>N/A</td>\n",
              "      <td>Checking or savings account</td>\n",
              "      <td>Closed with monetary relief</td>\n",
              "      <td>JPMORGAN CHASE &amp; CO.</td>\n",
              "      <td>Phone</td>\n",
              "      <td>2019-05-10T12:00:00-05:00</td>\n",
              "      <td>None</td>\n",
              "      <td>Checking account</td>\n",
              "      <td>Yes</td>\n",
              "      <td></td>\n",
              "      <td>Problem using a debit or ATM card</td>\n",
              "      <td>N/A</td>\n",
              "    </tr>\n",
              "    <tr>\n",
              "      <th>7</th>\n",
              "      <td>complaint-public-v2</td>\n",
              "      <td>complaint</td>\n",
              "      <td>3249272</td>\n",
              "      <td>0.0</td>\n",
              "      <td>None</td>\n",
              "      <td>07753</td>\n",
              "      <td>3249272</td>\n",
              "      <td>Trouble during payment process</td>\n",
              "      <td>2019-05-15T12:00:00-05:00</td>\n",
              "      <td>NJ</td>\n",
              "      <td>N/A</td>\n",
              "      <td>Mortgage</td>\n",
              "      <td>Closed with explanation</td>\n",
              "      <td>JPMORGAN CHASE &amp; CO.</td>\n",
              "      <td>Referral</td>\n",
              "      <td>2019-05-21T12:00:00-05:00</td>\n",
              "      <td>None</td>\n",
              "      <td>Conventional home mortgage</td>\n",
              "      <td>Yes</td>\n",
              "      <td></td>\n",
              "      <td>None</td>\n",
              "      <td>N/A</td>\n",
              "    </tr>\n",
              "    <tr>\n",
              "      <th>8</th>\n",
              "      <td>complaint-public-v2</td>\n",
              "      <td>complaint</td>\n",
              "      <td>3351653</td>\n",
              "      <td>0.0</td>\n",
              "      <td>None</td>\n",
              "      <td>60621</td>\n",
              "      <td>3351653</td>\n",
              "      <td>Closing an account</td>\n",
              "      <td>2019-08-22T12:00:00-05:00</td>\n",
              "      <td>IL</td>\n",
              "      <td>N/A</td>\n",
              "      <td>Checking or savings account</td>\n",
              "      <td>Closed with explanation</td>\n",
              "      <td>JPMORGAN CHASE &amp; CO.</td>\n",
              "      <td>Referral</td>\n",
              "      <td>2019-08-23T12:00:00-05:00</td>\n",
              "      <td>None</td>\n",
              "      <td>Checking account</td>\n",
              "      <td>Yes</td>\n",
              "      <td></td>\n",
              "      <td>Company closed your account</td>\n",
              "      <td>N/A</td>\n",
              "    </tr>\n",
              "    <tr>\n",
              "      <th>9</th>\n",
              "      <td>complaint-public-v2</td>\n",
              "      <td>complaint</td>\n",
              "      <td>3273612</td>\n",
              "      <td>0.0</td>\n",
              "      <td>None</td>\n",
              "      <td>99354</td>\n",
              "      <td>3273612</td>\n",
              "      <td>Managing an account</td>\n",
              "      <td>2019-06-11T12:00:00-05:00</td>\n",
              "      <td>WA</td>\n",
              "      <td>N/A</td>\n",
              "      <td>Checking or savings account</td>\n",
              "      <td>Closed with monetary relief</td>\n",
              "      <td>JPMORGAN CHASE &amp; CO.</td>\n",
              "      <td>Referral</td>\n",
              "      <td>2019-06-17T12:00:00-05:00</td>\n",
              "      <td>None</td>\n",
              "      <td>Checking account</td>\n",
              "      <td>Yes</td>\n",
              "      <td></td>\n",
              "      <td>Cashing a check</td>\n",
              "      <td>N/A</td>\n",
              "    </tr>\n",
              "  </tbody>\n",
              "</table>\n",
              "</div>"
            ],
            "text/plain": [
              "                _index  ... _source.consumer_consent_provided\n",
              "0  complaint-public-v2  ...              Consent not provided\n",
              "1  complaint-public-v2  ...                  Consent provided\n",
              "2  complaint-public-v2  ...                  Consent provided\n",
              "3  complaint-public-v2  ...              Consent not provided\n",
              "4  complaint-public-v2  ...                               N/A\n",
              "5  complaint-public-v2  ...                               N/A\n",
              "6  complaint-public-v2  ...                               N/A\n",
              "7  complaint-public-v2  ...                               N/A\n",
              "8  complaint-public-v2  ...                               N/A\n",
              "9  complaint-public-v2  ...                               N/A\n",
              "\n",
              "[10 rows x 22 columns]"
            ]
          },
          "metadata": {},
          "execution_count": 20
        }
      ]
    },
    {
      "cell_type": "code",
      "metadata": {
        "colab": {
          "base_uri": "https://localhost:8080/"
        },
        "id": "Dwcty-wmJrFw",
        "outputId": "3aef699c-aa4a-4fc1-8731-4e442a9f382b"
      },
      "source": [
        "#print the column names\n",
        "for col in df.columns:\n",
        "  print(col)\n"
      ],
      "execution_count": 21,
      "outputs": [
        {
          "output_type": "stream",
          "name": "stdout",
          "text": [
            "_index\n",
            "_type\n",
            "_id\n",
            "_score\n",
            "_source.tags\n",
            "_source.zip_code\n",
            "_source.complaint_id\n",
            "_source.issue\n",
            "_source.date_received\n",
            "_source.state\n",
            "_source.consumer_disputed\n",
            "_source.product\n",
            "_source.company_response\n",
            "_source.company\n",
            "_source.submitted_via\n",
            "_source.date_sent_to_company\n",
            "_source.company_public_response\n",
            "_source.sub_product\n",
            "_source.timely\n",
            "_source.complaint_what_happened\n",
            "_source.sub_issue\n",
            "_source.consumer_consent_provided\n"
          ]
        }
      ]
    },
    {
      "cell_type": "code",
      "metadata": {
        "id": "FYCtKXD1JrFw"
      },
      "source": [
        "#Assign new column names\n",
        "df.rename(columns ={'_index': 'index', '_type': 'type', '_id': 'id', '_score': 'score', '_source.tags': 'source_tags', \n",
        "                    '_source.zip_code': 'source_zip_code', '_source.complaint_id': 'source_complaint_id',\n",
        "                    '_source.complaint_id': 'source_complaint_id', '_source.issue': 'source_issue',\n",
        "                    '_source.date_received': 'source_date_received', '_source.state': 'source_state',\n",
        "                    '_source.consumer_disputed': 'source_consumer_disputed', '_source.product': 'source_product',\n",
        "                    '_source.company_response': 'source_company_response', '_source.company': 'source_company',\n",
        "                    '_source.submitted_via': 'source_submitted_via', '_source.date_sent_to_company': 'source_date_sent_to_company',\n",
        "                    '_source.company_public_response': 'source_company_public_response', '_source.sub_product': 'source_sub_product',\n",
        "                    '_source.timely': 'source_timely', '_source.complaint_what_happened': 'source_complaint_what_happened',\n",
        "                    '_source.sub_issue': 'source_sub_issue', '_source.consumer_consent_provided': 'source_consumer_consent_provided'}, inplace = True)"
      ],
      "execution_count": 22,
      "outputs": []
    },
    {
      "cell_type": "code",
      "metadata": {
        "id": "grQUPFL5JrFx"
      },
      "source": [
        "#Assign nan in place of blanks in the complaints column\n",
        "df[df['source_complaint_what_happened']== ''] = np.nan "
      ],
      "execution_count": 23,
      "outputs": []
    },
    {
      "cell_type": "code",
      "metadata": {
        "id": "Jfxd8VSmJrFy"
      },
      "source": [
        "#Remove all rows where complaints column is nan\n",
        "df = df[df['source_complaint_what_happened'].notnull()]"
      ],
      "execution_count": 24,
      "outputs": []
    },
    {
      "cell_type": "markdown",
      "metadata": {
        "id": "L944HZpsJrFy"
      },
      "source": [
        "## Prepare the text for topic modeling\n",
        "\n",
        "Once you have removed all the blank complaints, you need to:\n",
        "\n",
        "* Make the text lowercase\n",
        "* Remove text in square brackets\n",
        "* Remove punctuation\n",
        "* Remove words containing numbers\n",
        "\n",
        "\n",
        "Once you have done these cleaning operations you need to perform the following:\n",
        "* Lemmatize the texts\n",
        "* Use POS tags to get relevant words from the texts.\n"
      ]
    },
    {
      "cell_type": "code",
      "metadata": {
        "id": "qm7SjjSkJrFz"
      },
      "source": [
        "# Write your function here to clean the text and remove all the unnecessary elements.\n",
        "def clean_text(text):\n",
        "  text = text.lower()\n",
        "  pattern = re.compile('[\\(\\[].*?[\\)\\]]')\n",
        "  text = re.sub(pattern, '', text)\n",
        "  pattern = re.compile('[^\\w\\s]')\n",
        "  text = re.sub(pattern, '', text)\n",
        "  pattern = re.compile('[0-9]')\n",
        "  text = re.sub(pattern, '', text)\n",
        "  return text\n",
        "\n"
      ],
      "execution_count": 25,
      "outputs": []
    },
    {
      "cell_type": "code",
      "metadata": {
        "colab": {
          "base_uri": "https://localhost:8080/"
        },
        "id": "az2dVPDWEXrD",
        "outputId": "74f1b9c8-148a-4339-c17a-f8d692518476"
      },
      "source": [
        "from nltk.stem import WordNetLemmatizer\n",
        "wordnet_lemmatizer = WordNetLemmatizer()\n",
        "from nltk.corpus import stopwords\n",
        "from nltk.tokenize import word_tokenize\n",
        "nltk.download('wordnet')\n",
        "nltk.download('stopwords')\n",
        "nltk.download('punkt')"
      ],
      "execution_count": 26,
      "outputs": [
        {
          "output_type": "stream",
          "name": "stdout",
          "text": [
            "[nltk_data] Downloading package wordnet to /root/nltk_data...\n",
            "[nltk_data]   Package wordnet is already up-to-date!\n",
            "[nltk_data] Downloading package stopwords to /root/nltk_data...\n",
            "[nltk_data]   Package stopwords is already up-to-date!\n",
            "[nltk_data] Downloading package punkt to /root/nltk_data...\n",
            "[nltk_data]   Package punkt is already up-to-date!\n"
          ]
        },
        {
          "output_type": "execute_result",
          "data": {
            "text/plain": [
              "True"
            ]
          },
          "metadata": {},
          "execution_count": 26
        }
      ]
    },
    {
      "cell_type": "code",
      "metadata": {
        "id": "zgOu8t8HJrFz"
      },
      "source": [
        "#Function to Lemmatize the texts\n",
        "def lemmatizer(text):        \n",
        "    sent = []\n",
        "    doc = nlp(text)\n",
        "    for word in doc:\n",
        "        sent.append(word.lemma_)\n",
        "    return \" \".join(sent)\n"
      ],
      "execution_count": 27,
      "outputs": []
    },
    {
      "cell_type": "code",
      "metadata": {
        "id": "uXnN7aa_JrF0"
      },
      "source": [
        "#Create a dataframe('df_clean') that will have only the complaints and the lemmatized complaints \n",
        "df_clean = pd.DataFrame()\n",
        "df_clean['complaints'] = df['source_complaint_what_happened'].apply(lambda x: clean_text(x))"
      ],
      "execution_count": 28,
      "outputs": []
    },
    {
      "cell_type": "code",
      "metadata": {
        "id": "I3Mpi9mGECVs"
      },
      "source": [
        "df_clean['lemmatized_complaints'] = df_clean['complaints'].apply(lambda x: lemmatizer(x))"
      ],
      "execution_count": 29,
      "outputs": []
    },
    {
      "cell_type": "code",
      "metadata": {
        "id": "sORL6SegHCJ8",
        "colab": {
          "base_uri": "https://localhost:8080/",
          "height": 419
        },
        "outputId": "3d5780f8-4f3b-4771-8f38-5cbfbebd1e60"
      },
      "source": [
        "df_clean"
      ],
      "execution_count": 30,
      "outputs": [
        {
          "output_type": "execute_result",
          "data": {
            "text/html": [
              "<div>\n",
              "<style scoped>\n",
              "    .dataframe tbody tr th:only-of-type {\n",
              "        vertical-align: middle;\n",
              "    }\n",
              "\n",
              "    .dataframe tbody tr th {\n",
              "        vertical-align: top;\n",
              "    }\n",
              "\n",
              "    .dataframe thead th {\n",
              "        text-align: right;\n",
              "    }\n",
              "</style>\n",
              "<table border=\"1\" class=\"dataframe\">\n",
              "  <thead>\n",
              "    <tr style=\"text-align: right;\">\n",
              "      <th></th>\n",
              "      <th>complaints</th>\n",
              "      <th>lemmatized_complaints</th>\n",
              "    </tr>\n",
              "  </thead>\n",
              "  <tbody>\n",
              "    <tr>\n",
              "      <th>1</th>\n",
              "      <td>good morning my name is xxxx xxxx and i apprec...</td>\n",
              "      <td>good morning -PRON- name be xxxx xxxx and i ap...</td>\n",
              "    </tr>\n",
              "    <tr>\n",
              "      <th>2</th>\n",
              "      <td>i upgraded my xxxx xxxx card in xxxx and was t...</td>\n",
              "      <td>i upgrade -PRON- xxxx xxxx card in xxxx and be...</td>\n",
              "    </tr>\n",
              "    <tr>\n",
              "      <th>10</th>\n",
              "      <td>chase card was reported on xxxx however fraudu...</td>\n",
              "      <td>chase card be report on xxxx however fraudulen...</td>\n",
              "    </tr>\n",
              "    <tr>\n",
              "      <th>11</th>\n",
              "      <td>on xxxx while trying to book a xxxx  xxxx  tic...</td>\n",
              "      <td>on xxxx while try to book a xxxx   xxxx   tick...</td>\n",
              "    </tr>\n",
              "    <tr>\n",
              "      <th>14</th>\n",
              "      <td>my grand son give me check for  i deposit it i...</td>\n",
              "      <td>-PRON- grand son give -PRON- check for   i dep...</td>\n",
              "    </tr>\n",
              "    <tr>\n",
              "      <th>...</th>\n",
              "      <td>...</td>\n",
              "      <td>...</td>\n",
              "    </tr>\n",
              "    <tr>\n",
              "      <th>78303</th>\n",
              "      <td>after being a chase card customer for well ove...</td>\n",
              "      <td>after be a chase card customer for well over a...</td>\n",
              "    </tr>\n",
              "    <tr>\n",
              "      <th>78309</th>\n",
              "      <td>on wednesday xxxxxxxx i called chas my xxxx xx...</td>\n",
              "      <td>on wednesday xxxxxxxx i call chas -PRON- xxxx ...</td>\n",
              "    </tr>\n",
              "    <tr>\n",
              "      <th>78310</th>\n",
              "      <td>i am not familiar with xxxx pay and did not un...</td>\n",
              "      <td>i be not familiar with xxxx pay and do not und...</td>\n",
              "    </tr>\n",
              "    <tr>\n",
              "      <th>78311</th>\n",
              "      <td>i have had flawless credit for  yrs ive had ch...</td>\n",
              "      <td>i have have flawless credit for   yrs -PRON- h...</td>\n",
              "    </tr>\n",
              "    <tr>\n",
              "      <th>78312</th>\n",
              "      <td>roughly  years ago i closed out my accounts wi...</td>\n",
              "      <td>roughly   year ago i close out -PRON- account ...</td>\n",
              "    </tr>\n",
              "  </tbody>\n",
              "</table>\n",
              "<p>21072 rows × 2 columns</p>\n",
              "</div>"
            ],
            "text/plain": [
              "                                              complaints                              lemmatized_complaints\n",
              "1      good morning my name is xxxx xxxx and i apprec...  good morning -PRON- name be xxxx xxxx and i ap...\n",
              "2      i upgraded my xxxx xxxx card in xxxx and was t...  i upgrade -PRON- xxxx xxxx card in xxxx and be...\n",
              "10     chase card was reported on xxxx however fraudu...  chase card be report on xxxx however fraudulen...\n",
              "11     on xxxx while trying to book a xxxx  xxxx  tic...  on xxxx while try to book a xxxx   xxxx   tick...\n",
              "14     my grand son give me check for  i deposit it i...  -PRON- grand son give -PRON- check for   i dep...\n",
              "...                                                  ...                                                ...\n",
              "78303  after being a chase card customer for well ove...  after be a chase card customer for well over a...\n",
              "78309  on wednesday xxxxxxxx i called chas my xxxx xx...  on wednesday xxxxxxxx i call chas -PRON- xxxx ...\n",
              "78310  i am not familiar with xxxx pay and did not un...  i be not familiar with xxxx pay and do not und...\n",
              "78311  i have had flawless credit for  yrs ive had ch...  i have have flawless credit for   yrs -PRON- h...\n",
              "78312  roughly  years ago i closed out my accounts wi...  roughly   year ago i close out -PRON- account ...\n",
              "\n",
              "[21072 rows x 2 columns]"
            ]
          },
          "metadata": {},
          "execution_count": 30
        }
      ]
    },
    {
      "cell_type": "code",
      "metadata": {
        "id": "nOiDVvEIJrF0"
      },
      "source": [
        "df_clean.to_csv('df_clean.csv', index=False)"
      ],
      "execution_count": 31,
      "outputs": []
    },
    {
      "cell_type": "code",
      "metadata": {
        "id": "Kk7fc4DuJrF1"
      },
      "source": [
        "#Write your function to extract the POS tags \n",
        "def pos_tag(text):\n",
        "  doc = nlp(text)\n",
        "  result = []\n",
        "  for token in doc:\n",
        "    if token.pos_ == 'NOUN':\n",
        "      output = result.append(token.text)\n",
        "      \n",
        "  return ' '.join(result)\n"
      ],
      "execution_count": 32,
      "outputs": []
    },
    {
      "cell_type": "code",
      "metadata": {
        "id": "AjxfchvFJrF2"
      },
      "source": [
        "#The clean dataframe should now contain the raw complaint, lemmatized complaint and the complaint after removing POS tags.\n",
        "df_clean['complaint_POS_removed'] = df_clean['lemmatized_complaints'].apply(lambda x: pos_tag(x))"
      ],
      "execution_count": 33,
      "outputs": []
    },
    {
      "cell_type": "code",
      "metadata": {
        "colab": {
          "base_uri": "https://localhost:8080/",
          "height": 589
        },
        "id": "152036i7ClUM",
        "outputId": "7915b999-bb3f-469c-b473-98f79c2b7be5"
      },
      "source": [
        "df_clean"
      ],
      "execution_count": 34,
      "outputs": [
        {
          "output_type": "execute_result",
          "data": {
            "text/html": [
              "<div>\n",
              "<style scoped>\n",
              "    .dataframe tbody tr th:only-of-type {\n",
              "        vertical-align: middle;\n",
              "    }\n",
              "\n",
              "    .dataframe tbody tr th {\n",
              "        vertical-align: top;\n",
              "    }\n",
              "\n",
              "    .dataframe thead th {\n",
              "        text-align: right;\n",
              "    }\n",
              "</style>\n",
              "<table border=\"1\" class=\"dataframe\">\n",
              "  <thead>\n",
              "    <tr style=\"text-align: right;\">\n",
              "      <th></th>\n",
              "      <th>complaints</th>\n",
              "      <th>lemmatized_complaints</th>\n",
              "      <th>complaint_POS_removed</th>\n",
              "    </tr>\n",
              "  </thead>\n",
              "  <tbody>\n",
              "    <tr>\n",
              "      <th>1</th>\n",
              "      <td>good morning my name is xxxx xxxx and i apprec...</td>\n",
              "      <td>good morning -PRON- name be xxxx xxxx and i ap...</td>\n",
              "      <td>morning name stop bank cardmember service debt...</td>\n",
              "    </tr>\n",
              "    <tr>\n",
              "      <th>2</th>\n",
              "      <td>i upgraded my xxxx xxxx card in xxxx and was t...</td>\n",
              "      <td>i upgrade -PRON- xxxx xxxx card in xxxx and be...</td>\n",
              "      <td>card agent anniversary date agent information ...</td>\n",
              "    </tr>\n",
              "    <tr>\n",
              "      <th>10</th>\n",
              "      <td>chase card was reported on xxxx however fraudu...</td>\n",
              "      <td>chase card be report on xxxx however fraudulen...</td>\n",
              "      <td>card report application submit identity consen...</td>\n",
              "    </tr>\n",
              "    <tr>\n",
              "      <th>11</th>\n",
              "      <td>on xxxx while trying to book a xxxx  xxxx  tic...</td>\n",
              "      <td>on xxxx while try to book a xxxx   xxxx   tick...</td>\n",
              "      <td>xxxx ticket offer ticket reward card informati...</td>\n",
              "    </tr>\n",
              "    <tr>\n",
              "      <th>14</th>\n",
              "      <td>my grand son give me check for  i deposit it i...</td>\n",
              "      <td>-PRON- grand son give -PRON- check for   i dep...</td>\n",
              "      <td>son chase account fund account money say son c...</td>\n",
              "    </tr>\n",
              "    <tr>\n",
              "      <th>...</th>\n",
              "      <td>...</td>\n",
              "      <td>...</td>\n",
              "      <td>...</td>\n",
              "    </tr>\n",
              "    <tr>\n",
              "      <th>78303</th>\n",
              "      <td>after being a chase card customer for well ove...</td>\n",
              "      <td>after be a chase card customer for well over a...</td>\n",
              "      <td>chase card customer decade solicitation credit...</td>\n",
              "    </tr>\n",
              "    <tr>\n",
              "      <th>78309</th>\n",
              "      <td>on wednesday xxxxxxxx i called chas my xxxx xx...</td>\n",
              "      <td>on wednesday xxxxxxxx i call chas -PRON- xxxx ...</td>\n",
              "      <td>card provider claim protection benefit school ...</td>\n",
              "    </tr>\n",
              "    <tr>\n",
              "      <th>78310</th>\n",
              "      <td>i am not familiar with xxxx pay and did not un...</td>\n",
              "      <td>i be not familiar with xxxx pay and do not und...</td>\n",
              "      <td>risk provide consumer chase year trust banking...</td>\n",
              "    </tr>\n",
              "    <tr>\n",
              "      <th>78311</th>\n",
              "      <td>i have had flawless credit for  yrs ive had ch...</td>\n",
              "      <td>i have have flawless credit for   yrs -PRON- h...</td>\n",
              "      <td>credit chase credit card chase freedom xxxx pr...</td>\n",
              "    </tr>\n",
              "    <tr>\n",
              "      <th>78312</th>\n",
              "      <td>roughly  years ago i closed out my accounts wi...</td>\n",
              "      <td>roughly   year ago i close out -PRON- account ...</td>\n",
              "      <td>year account order line credit account payment...</td>\n",
              "    </tr>\n",
              "  </tbody>\n",
              "</table>\n",
              "<p>21072 rows × 3 columns</p>\n",
              "</div>"
            ],
            "text/plain": [
              "                                              complaints  ...                              complaint_POS_removed\n",
              "1      good morning my name is xxxx xxxx and i apprec...  ...  morning name stop bank cardmember service debt...\n",
              "2      i upgraded my xxxx xxxx card in xxxx and was t...  ...  card agent anniversary date agent information ...\n",
              "10     chase card was reported on xxxx however fraudu...  ...  card report application submit identity consen...\n",
              "11     on xxxx while trying to book a xxxx  xxxx  tic...  ...  xxxx ticket offer ticket reward card informati...\n",
              "14     my grand son give me check for  i deposit it i...  ...  son chase account fund account money say son c...\n",
              "...                                                  ...  ...                                                ...\n",
              "78303  after being a chase card customer for well ove...  ...  chase card customer decade solicitation credit...\n",
              "78309  on wednesday xxxxxxxx i called chas my xxxx xx...  ...  card provider claim protection benefit school ...\n",
              "78310  i am not familiar with xxxx pay and did not un...  ...  risk provide consumer chase year trust banking...\n",
              "78311  i have had flawless credit for  yrs ive had ch...  ...  credit chase credit card chase freedom xxxx pr...\n",
              "78312  roughly  years ago i closed out my accounts wi...  ...  year account order line credit account payment...\n",
              "\n",
              "[21072 rows x 3 columns]"
            ]
          },
          "metadata": {},
          "execution_count": 34
        }
      ]
    },
    {
      "cell_type": "markdown",
      "metadata": {
        "id": "_7Un1AElJrF2"
      },
      "source": [
        "## Exploratory data analysis to get familiar with the data.\n",
        "\n",
        "Write the code in this task to perform the following:\n",
        "\n",
        "*   Visualise the data according to the 'Complaint' character length\n",
        "*   Using a word cloud find the top 40 words by frequency among all the articles after processing the text\n",
        "*   Find the top unigrams,bigrams and trigrams by frequency among all the complaints after processing the text. ‘\n",
        "\n",
        "\n"
      ]
    },
    {
      "cell_type": "code",
      "metadata": {
        "colab": {
          "base_uri": "https://localhost:8080/",
          "height": 374
        },
        "id": "q-zaqJF6JrF2",
        "outputId": "32e8fa38-df95-49c6-d16e-3d7b78c7d985"
      },
      "source": [
        "# Write your code here to visualise the data according to the 'Complaint' character length\n",
        "import seaborn as sns\n",
        "import matplotlib.pyplot as plt\n",
        "%matplotlib inline\n",
        "\n",
        "plt.figure(figsize=(10,6))\n",
        "doc_lens = [len(d) for d in df_clean.complaint_POS_removed]\n",
        "plt.hist(doc_lens, bins = 50)\n",
        "plt.show()"
      ],
      "execution_count": 35,
      "outputs": [
        {
          "output_type": "display_data",
          "data": {
            "image/png": "[encoded data removed]",
            "text/plain": [
              "<Figure size 720x432 with 1 Axes>"
            ]
          },
          "metadata": {
            "needs_background": "light"
          }
        }
      ]
    },
    {
      "cell_type": "markdown",
      "metadata": {
        "id": "T9jD_6SeJrF3"
      },
      "source": [
        "#### Find the top 40 words by frequency among all the articles after processing the text."
      ]
    },
    {
      "cell_type": "code",
      "metadata": {
        "colab": {
          "base_uri": "https://localhost:8080/",
          "height": 215
        },
        "id": "QcfdvtfZJrF3",
        "outputId": "9dee2405-b024-4fa5-a7e1-6801e183bb55"
      },
      "source": [
        "#Using a word cloud find the top 40 words by frequency among all the articles after processing the text\n",
        "from wordcloud import WordCloud\n",
        "stoplist = set(stopwords.words(\"english\"))\n",
        "\n",
        "\n",
        "wordcloud = WordCloud(stopwords=stoplist,max_words=40, background_color='white').generate(str(df_clean.complaint_POS_removed))\n",
        "\n",
        "print(wordcloud)\n",
        "fig = plt.figure(1)\n",
        "plt.imshow(wordcloud)\n",
        "plt.axis('off')\n",
        "plt.show();\n"
      ],
      "execution_count": 36,
      "outputs": [
        {
          "output_type": "stream",
          "name": "stdout",
          "text": [
            "<wordcloud.wordcloud.WordCloud object at 0x7f685d95d650>\n"
          ]
        },
        {
          "output_type": "display_data",
          "data": {
            "image/png": "[encoded data removed]",
            "text/plain": [
              "<Figure size 432x288 with 1 Axes>"
            ]
          },
          "metadata": {
            "needs_background": "light"
          }
        }
      ]
    },
    {
      "cell_type": "code",
      "metadata": {
        "id": "OkSmc3UaJrF4"
      },
      "source": [
        "#Removing -PRON- from the text corpus\n",
        "df_clean['Complaint_clean'] = df_clean['complaint_POS_removed'].str.replace('-PRON-', '')"
      ],
      "execution_count": 37,
      "outputs": []
    },
    {
      "cell_type": "markdown",
      "metadata": {
        "id": "5DfCSbbmJrF4"
      },
      "source": [
        "#### Find the top unigrams,bigrams and trigrams by frequency among all the complaints after processing the text."
      ]
    },
    {
      "cell_type": "code",
      "metadata": {
        "id": "5mbk5DS5JrF4"
      },
      "source": [
        "#Write your code here to find the top 30 unigram frequency among the complaints in the cleaned datafram(df_clean). \n",
        "def get_top_n_bigram(corpus, n=None):\n",
        "    vec = CountVectorizer(ngram_range=(1, 1), stop_words='english').fit(corpus)\n",
        "    bag_of_words = vec.transform(corpus)\n",
        "    #print(bag_of_words)\n",
        "    sum_words = bag_of_words.sum(axis=0) \n",
        "    words_freq = [(word, sum_words[0, idx]) for word, idx in vec.vocabulary_.items()]\n",
        "    words_freq =sorted(words_freq, key = lambda x: x[1], reverse=True)\n",
        "    return words_freq[:n]\n",
        "\n",
        "common_words = get_top_n_bigram(df_clean['Complaint_clean'], 30)"
      ],
      "execution_count": 38,
      "outputs": []
    },
    {
      "cell_type": "code",
      "metadata": {
        "colab": {
          "base_uri": "https://localhost:8080/",
          "height": 359
        },
        "id": "YX7fedm1JrF8",
        "outputId": "a0387b29-d6eb-4e63-c30d-26af78c2f316"
      },
      "source": [
        "#Print the top 10 words in the unigram frequency\n",
        "df_unigram = pd.DataFrame(common_words, columns = ['unigram' , 'count'])\n",
        "df_unigram.iloc[:10,:]"
      ],
      "execution_count": 39,
      "outputs": [
        {
          "output_type": "execute_result",
          "data": {
            "text/html": [
              "<div>\n",
              "<style scoped>\n",
              "    .dataframe tbody tr th:only-of-type {\n",
              "        vertical-align: middle;\n",
              "    }\n",
              "\n",
              "    .dataframe tbody tr th {\n",
              "        vertical-align: top;\n",
              "    }\n",
              "\n",
              "    .dataframe thead th {\n",
              "        text-align: right;\n",
              "    }\n",
              "</style>\n",
              "<table border=\"1\" class=\"dataframe\">\n",
              "  <thead>\n",
              "    <tr style=\"text-align: right;\">\n",
              "      <th></th>\n",
              "      <th>unigram</th>\n",
              "      <th>count</th>\n",
              "    </tr>\n",
              "  </thead>\n",
              "  <tbody>\n",
              "    <tr>\n",
              "      <th>0</th>\n",
              "      <td>account</td>\n",
              "      <td>44970</td>\n",
              "    </tr>\n",
              "    <tr>\n",
              "      <th>1</th>\n",
              "      <td>chase</td>\n",
              "      <td>39166</td>\n",
              "    </tr>\n",
              "    <tr>\n",
              "      <th>2</th>\n",
              "      <td>credit</td>\n",
              "      <td>32339</td>\n",
              "    </tr>\n",
              "    <tr>\n",
              "      <th>3</th>\n",
              "      <td>card</td>\n",
              "      <td>29564</td>\n",
              "    </tr>\n",
              "    <tr>\n",
              "      <th>4</th>\n",
              "      <td>payment</td>\n",
              "      <td>20512</td>\n",
              "    </tr>\n",
              "    <tr>\n",
              "      <th>5</th>\n",
              "      <td>xxxx</td>\n",
              "      <td>16353</td>\n",
              "    </tr>\n",
              "    <tr>\n",
              "      <th>6</th>\n",
              "      <td>charge</td>\n",
              "      <td>15877</td>\n",
              "    </tr>\n",
              "    <tr>\n",
              "      <th>7</th>\n",
              "      <td>bank</td>\n",
              "      <td>15723</td>\n",
              "    </tr>\n",
              "    <tr>\n",
              "      <th>8</th>\n",
              "      <td>time</td>\n",
              "      <td>15676</td>\n",
              "    </tr>\n",
              "    <tr>\n",
              "      <th>9</th>\n",
              "      <td>day</td>\n",
              "      <td>12714</td>\n",
              "    </tr>\n",
              "  </tbody>\n",
              "</table>\n",
              "</div>"
            ],
            "text/plain": [
              "   unigram  count\n",
              "0  account  44970\n",
              "1    chase  39166\n",
              "2   credit  32339\n",
              "3     card  29564\n",
              "4  payment  20512\n",
              "5     xxxx  16353\n",
              "6   charge  15877\n",
              "7     bank  15723\n",
              "8     time  15676\n",
              "9      day  12714"
            ]
          },
          "metadata": {},
          "execution_count": 39
        }
      ]
    },
    {
      "cell_type": "code",
      "metadata": {
        "id": "aV7kD7w8JrF8"
      },
      "source": [
        "#Write your code here to find the top 30 unigram frequency among the complaints in the cleaned datafram(df_clean). \n",
        "def get_top_n_bigram(corpus, n=None):\n",
        "    vec = CountVectorizer(ngram_range=(2, 2), stop_words='english').fit(corpus)\n",
        "    bag_of_words = vec.transform(corpus)\n",
        "    #print(bag_of_words)\n",
        "    sum_words = bag_of_words.sum(axis=0) \n",
        "    words_freq = [(word, sum_words[0, idx]) for word, idx in vec.vocabulary_.items()]\n",
        "    words_freq =sorted(words_freq, key = lambda x: x[1], reverse=True)\n",
        "    return words_freq[:n]\n",
        "\n",
        "common_words = get_top_n_bigram(df_clean['Complaint_clean'], 30)"
      ],
      "execution_count": 40,
      "outputs": []
    },
    {
      "cell_type": "code",
      "metadata": {
        "colab": {
          "base_uri": "https://localhost:8080/",
          "height": 359
        },
        "id": "NPnMNIpyJrF9",
        "outputId": "75b52b16-da0f-4910-8a2e-179f90582d20"
      },
      "source": [
        "#Print the top 10 words in the bigram frequency\n",
        "df_bigram = pd.DataFrame(common_words, columns = ['bigram' , 'count'])\n",
        "df_bigram.iloc[:10,:]"
      ],
      "execution_count": 41,
      "outputs": [
        {
          "output_type": "execute_result",
          "data": {
            "text/html": [
              "<div>\n",
              "<style scoped>\n",
              "    .dataframe tbody tr th:only-of-type {\n",
              "        vertical-align: middle;\n",
              "    }\n",
              "\n",
              "    .dataframe tbody tr th {\n",
              "        vertical-align: top;\n",
              "    }\n",
              "\n",
              "    .dataframe thead th {\n",
              "        text-align: right;\n",
              "    }\n",
              "</style>\n",
              "<table border=\"1\" class=\"dataframe\">\n",
              "  <thead>\n",
              "    <tr style=\"text-align: right;\">\n",
              "      <th></th>\n",
              "      <th>bigram</th>\n",
              "      <th>count</th>\n",
              "    </tr>\n",
              "  </thead>\n",
              "  <tbody>\n",
              "    <tr>\n",
              "      <th>0</th>\n",
              "      <td>credit card</td>\n",
              "      <td>12332</td>\n",
              "    </tr>\n",
              "    <tr>\n",
              "      <th>1</th>\n",
              "      <td>credit report</td>\n",
              "      <td>3862</td>\n",
              "    </tr>\n",
              "    <tr>\n",
              "      <th>2</th>\n",
              "      <td>customer service</td>\n",
              "      <td>2838</td>\n",
              "    </tr>\n",
              "    <tr>\n",
              "      <th>3</th>\n",
              "      <td>account account</td>\n",
              "      <td>2419</td>\n",
              "    </tr>\n",
              "    <tr>\n",
              "      <th>4</th>\n",
              "      <td>chase credit</td>\n",
              "      <td>2337</td>\n",
              "    </tr>\n",
              "    <tr>\n",
              "      <th>5</th>\n",
              "      <td>account chase</td>\n",
              "      <td>2329</td>\n",
              "    </tr>\n",
              "    <tr>\n",
              "      <th>6</th>\n",
              "      <td>bank account</td>\n",
              "      <td>1922</td>\n",
              "    </tr>\n",
              "    <tr>\n",
              "      <th>7</th>\n",
              "      <td>debit card</td>\n",
              "      <td>1828</td>\n",
              "    </tr>\n",
              "    <tr>\n",
              "      <th>8</th>\n",
              "      <td>chase account</td>\n",
              "      <td>1793</td>\n",
              "    </tr>\n",
              "    <tr>\n",
              "      <th>9</th>\n",
              "      <td>check account</td>\n",
              "      <td>1788</td>\n",
              "    </tr>\n",
              "  </tbody>\n",
              "</table>\n",
              "</div>"
            ],
            "text/plain": [
              "             bigram  count\n",
              "0       credit card  12332\n",
              "1     credit report   3862\n",
              "2  customer service   2838\n",
              "3   account account   2419\n",
              "4      chase credit   2337\n",
              "5     account chase   2329\n",
              "6      bank account   1922\n",
              "7        debit card   1828\n",
              "8     chase account   1793\n",
              "9     check account   1788"
            ]
          },
          "metadata": {},
          "execution_count": 41
        }
      ]
    },
    {
      "cell_type": "code",
      "metadata": {
        "id": "Xkh7vtbtJrF-"
      },
      "source": [
        "#Write your code here to find the top 30 trigram frequency among the complaints in the cleaned datafram(df_clean). \n",
        "def get_top_n_bigram(corpus, n=None):\n",
        "    vec = CountVectorizer(ngram_range=(3, 3), stop_words='english').fit(corpus)\n",
        "    bag_of_words = vec.transform(corpus)\n",
        "    #print(bag_of_words)\n",
        "    sum_words = bag_of_words.sum(axis=0) \n",
        "    words_freq = [(word, sum_words[0, idx]) for word, idx in vec.vocabulary_.items()]\n",
        "    #print(\"-31\",words_freq)\n",
        "    words_freq =sorted(words_freq, key = lambda x: x[1], reverse=True)\n",
        "    return words_freq[:n]\n",
        "\n",
        "common_words = get_top_n_bigram(df_clean['complaints'], 30)"
      ],
      "execution_count": 42,
      "outputs": []
    },
    {
      "cell_type": "code",
      "metadata": {
        "id": "REcVxNfvJrF-",
        "colab": {
          "base_uri": "https://localhost:8080/",
          "height": 359
        },
        "outputId": "7618c44c-2e13-400e-c412-b2f6f5948ddc"
      },
      "source": [
        "#Print the top 10 words in the trigram frequency\n",
        "df_trigram = pd.DataFrame(common_words, columns = ['trigram' , 'count'])\n",
        "df_trigram.iloc[:10,:]"
      ],
      "execution_count": 43,
      "outputs": [
        {
          "output_type": "execute_result",
          "data": {
            "text/html": [
              "<div>\n",
              "<style scoped>\n",
              "    .dataframe tbody tr th:only-of-type {\n",
              "        vertical-align: middle;\n",
              "    }\n",
              "\n",
              "    .dataframe tbody tr th {\n",
              "        vertical-align: top;\n",
              "    }\n",
              "\n",
              "    .dataframe thead th {\n",
              "        text-align: right;\n",
              "    }\n",
              "</style>\n",
              "<table border=\"1\" class=\"dataframe\">\n",
              "  <thead>\n",
              "    <tr style=\"text-align: right;\">\n",
              "      <th></th>\n",
              "      <th>trigram</th>\n",
              "      <th>count</th>\n",
              "    </tr>\n",
              "  </thead>\n",
              "  <tbody>\n",
              "    <tr>\n",
              "      <th>0</th>\n",
              "      <td>xxxx xxxx xxxx</td>\n",
              "      <td>37868</td>\n",
              "    </tr>\n",
              "    <tr>\n",
              "      <th>1</th>\n",
              "      <td>jp morgan chase</td>\n",
              "      <td>2284</td>\n",
              "    </tr>\n",
              "    <tr>\n",
              "      <th>2</th>\n",
              "      <td>chase credit card</td>\n",
              "      <td>1779</td>\n",
              "    </tr>\n",
              "    <tr>\n",
              "      <th>3</th>\n",
              "      <td>xxxx xxxx chase</td>\n",
              "      <td>1644</td>\n",
              "    </tr>\n",
              "    <tr>\n",
              "      <th>4</th>\n",
              "      <td>xxxxxxxx xxxx xxxx</td>\n",
              "      <td>1572</td>\n",
              "    </tr>\n",
              "    <tr>\n",
              "      <th>5</th>\n",
              "      <td>xxxx xxxx xxxxxxxx</td>\n",
              "      <td>1263</td>\n",
              "    </tr>\n",
              "    <tr>\n",
              "      <th>6</th>\n",
              "      <td>chase xxxx xxxx</td>\n",
              "      <td>1111</td>\n",
              "    </tr>\n",
              "    <tr>\n",
              "      <th>7</th>\n",
              "      <td>chase bank xxxx</td>\n",
              "      <td>1060</td>\n",
              "    </tr>\n",
              "    <tr>\n",
              "      <th>8</th>\n",
              "      <td>xxxx xxxxxxxx xxxx</td>\n",
              "      <td>954</td>\n",
              "    </tr>\n",
              "    <tr>\n",
              "      <th>9</th>\n",
              "      <td>account xxxx xxxx</td>\n",
              "      <td>908</td>\n",
              "    </tr>\n",
              "  </tbody>\n",
              "</table>\n",
              "</div>"
            ],
            "text/plain": [
              "              trigram  count\n",
              "0      xxxx xxxx xxxx  37868\n",
              "1     jp morgan chase   2284\n",
              "2   chase credit card   1779\n",
              "3     xxxx xxxx chase   1644\n",
              "4  xxxxxxxx xxxx xxxx   1572\n",
              "5  xxxx xxxx xxxxxxxx   1263\n",
              "6     chase xxxx xxxx   1111\n",
              "7     chase bank xxxx   1060\n",
              "8  xxxx xxxxxxxx xxxx    954\n",
              "9   account xxxx xxxx    908"
            ]
          },
          "metadata": {},
          "execution_count": 43
        }
      ]
    },
    {
      "cell_type": "markdown",
      "metadata": {
        "id": "yUXzFji0JrF_"
      },
      "source": [
        "## The personal details of customer has been masked in the dataset with xxxx. Let's remove the masked text as this will be of no use for our analysis"
      ]
    },
    {
      "cell_type": "code",
      "metadata": {
        "id": "wKda-a_IJrF_"
      },
      "source": [
        "df_clean['Complaint_clean'] = df_clean['Complaint_clean'].str.replace('xxxx','')"
      ],
      "execution_count": 44,
      "outputs": []
    },
    {
      "cell_type": "code",
      "metadata": {
        "id": "9UIFk8fQJrF_",
        "colab": {
          "base_uri": "https://localhost:8080/",
          "height": 589
        },
        "outputId": "4507bd62-947e-4361-9c51-840c7e5efe83"
      },
      "source": [
        "#All masked texts has been removed\n",
        "df_clean"
      ],
      "execution_count": 45,
      "outputs": [
        {
          "output_type": "execute_result",
          "data": {
            "text/html": [
              "<div>\n",
              "<style scoped>\n",
              "    .dataframe tbody tr th:only-of-type {\n",
              "        vertical-align: middle;\n",
              "    }\n",
              "\n",
              "    .dataframe tbody tr th {\n",
              "        vertical-align: top;\n",
              "    }\n",
              "\n",
              "    .dataframe thead th {\n",
              "        text-align: right;\n",
              "    }\n",
              "</style>\n",
              "<table border=\"1\" class=\"dataframe\">\n",
              "  <thead>\n",
              "    <tr style=\"text-align: right;\">\n",
              "      <th></th>\n",
              "      <th>complaints</th>\n",
              "      <th>lemmatized_complaints</th>\n",
              "      <th>complaint_POS_removed</th>\n",
              "      <th>Complaint_clean</th>\n",
              "    </tr>\n",
              "  </thead>\n",
              "  <tbody>\n",
              "    <tr>\n",
              "      <th>1</th>\n",
              "      <td>good morning my name is xxxx xxxx and i apprec...</td>\n",
              "      <td>good morning -PRON- name be xxxx xxxx and i ap...</td>\n",
              "      <td>morning name stop bank cardmember service debt...</td>\n",
              "      <td>morning name stop bank cardmember service debt...</td>\n",
              "    </tr>\n",
              "    <tr>\n",
              "      <th>2</th>\n",
              "      <td>i upgraded my xxxx xxxx card in xxxx and was t...</td>\n",
              "      <td>i upgrade -PRON- xxxx xxxx card in xxxx and be...</td>\n",
              "      <td>card agent anniversary date agent information ...</td>\n",
              "      <td>card agent anniversary date agent information ...</td>\n",
              "    </tr>\n",
              "    <tr>\n",
              "      <th>10</th>\n",
              "      <td>chase card was reported on xxxx however fraudu...</td>\n",
              "      <td>chase card be report on xxxx however fraudulen...</td>\n",
              "      <td>card report application submit identity consen...</td>\n",
              "      <td>card report application submit identity consen...</td>\n",
              "    </tr>\n",
              "    <tr>\n",
              "      <th>11</th>\n",
              "      <td>on xxxx while trying to book a xxxx  xxxx  tic...</td>\n",
              "      <td>on xxxx while try to book a xxxx   xxxx   tick...</td>\n",
              "      <td>xxxx ticket offer ticket reward card informati...</td>\n",
              "      <td>ticket offer ticket reward card information o...</td>\n",
              "    </tr>\n",
              "    <tr>\n",
              "      <th>14</th>\n",
              "      <td>my grand son give me check for  i deposit it i...</td>\n",
              "      <td>-PRON- grand son give -PRON- check for   i dep...</td>\n",
              "      <td>son chase account fund account money say son c...</td>\n",
              "      <td>son chase account fund account money say son c...</td>\n",
              "    </tr>\n",
              "    <tr>\n",
              "      <th>...</th>\n",
              "      <td>...</td>\n",
              "      <td>...</td>\n",
              "      <td>...</td>\n",
              "      <td>...</td>\n",
              "    </tr>\n",
              "    <tr>\n",
              "      <th>78303</th>\n",
              "      <td>after being a chase card customer for well ove...</td>\n",
              "      <td>after be a chase card customer for well over a...</td>\n",
              "      <td>chase card customer decade solicitation credit...</td>\n",
              "      <td>chase card customer decade solicitation credit...</td>\n",
              "    </tr>\n",
              "    <tr>\n",
              "      <th>78309</th>\n",
              "      <td>on wednesday xxxxxxxx i called chas my xxxx xx...</td>\n",
              "      <td>on wednesday xxxxxxxx i call chas -PRON- xxxx ...</td>\n",
              "      <td>card provider claim protection benefit school ...</td>\n",
              "      <td>card provider claim protection benefit school ...</td>\n",
              "    </tr>\n",
              "    <tr>\n",
              "      <th>78310</th>\n",
              "      <td>i am not familiar with xxxx pay and did not un...</td>\n",
              "      <td>i be not familiar with xxxx pay and do not und...</td>\n",
              "      <td>risk provide consumer chase year trust banking...</td>\n",
              "      <td>risk provide consumer chase year trust banking...</td>\n",
              "    </tr>\n",
              "    <tr>\n",
              "      <th>78311</th>\n",
              "      <td>i have had flawless credit for  yrs ive had ch...</td>\n",
              "      <td>i have have flawless credit for   yrs -PRON- h...</td>\n",
              "      <td>credit chase credit card chase freedom xxxx pr...</td>\n",
              "      <td>credit chase credit card chase freedom  proble...</td>\n",
              "    </tr>\n",
              "    <tr>\n",
              "      <th>78312</th>\n",
              "      <td>roughly  years ago i closed out my accounts wi...</td>\n",
              "      <td>roughly   year ago i close out -PRON- account ...</td>\n",
              "      <td>year account order line credit account payment...</td>\n",
              "      <td>year account order line credit account payment...</td>\n",
              "    </tr>\n",
              "  </tbody>\n",
              "</table>\n",
              "<p>21072 rows × 4 columns</p>\n",
              "</div>"
            ],
            "text/plain": [
              "                                              complaints  ...                                    Complaint_clean\n",
              "1      good morning my name is xxxx xxxx and i apprec...  ...  morning name stop bank cardmember service debt...\n",
              "2      i upgraded my xxxx xxxx card in xxxx and was t...  ...  card agent anniversary date agent information ...\n",
              "10     chase card was reported on xxxx however fraudu...  ...  card report application submit identity consen...\n",
              "11     on xxxx while trying to book a xxxx  xxxx  tic...  ...   ticket offer ticket reward card information o...\n",
              "14     my grand son give me check for  i deposit it i...  ...  son chase account fund account money say son c...\n",
              "...                                                  ...  ...                                                ...\n",
              "78303  after being a chase card customer for well ove...  ...  chase card customer decade solicitation credit...\n",
              "78309  on wednesday xxxxxxxx i called chas my xxxx xx...  ...  card provider claim protection benefit school ...\n",
              "78310  i am not familiar with xxxx pay and did not un...  ...  risk provide consumer chase year trust banking...\n",
              "78311  i have had flawless credit for  yrs ive had ch...  ...  credit chase credit card chase freedom  proble...\n",
              "78312  roughly  years ago i closed out my accounts wi...  ...  year account order line credit account payment...\n",
              "\n",
              "[21072 rows x 4 columns]"
            ]
          },
          "metadata": {},
          "execution_count": 45
        }
      ]
    },
    {
      "cell_type": "code",
      "metadata": {
        "id": "hHxO5r7SSmvO"
      },
      "source": [
        "#Remove all rows where Complaints_clean column is nan\n",
        "df_clean = df_clean[df_clean['Complaint_clean'].notnull()]"
      ],
      "execution_count": 46,
      "outputs": []
    },
    {
      "cell_type": "code",
      "metadata": {
        "id": "D0C-virOK1e0"
      },
      "source": [
        "df_clean.to_csv('df_clean_final.csv', index=False)"
      ],
      "execution_count": 47,
      "outputs": []
    },
    {
      "cell_type": "code",
      "metadata": {
        "id": "sRiTtpkbQSwO",
        "colab": {
          "base_uri": "https://localhost:8080/"
        },
        "outputId": "2adcb453-a8bb-4f80-e908-af002153884b"
      },
      "source": [
        "## Code for internal purpose to reduce the execution time while preparing case study--commented\n",
        "#df_clean = pd.read_csv('df_clean_final.csv')\n",
        "#df_clean = df_clean[df_clean['Complaint_clean'].notnull()]\n",
        "#df_clean\n",
        "df_clean.info()"
      ],
      "execution_count": 48,
      "outputs": [
        {
          "output_type": "stream",
          "name": "stdout",
          "text": [
            "<class 'pandas.core.frame.DataFrame'>\n",
            "Int64Index: 21072 entries, 1 to 78312\n",
            "Data columns (total 4 columns):\n",
            " #   Column                 Non-Null Count  Dtype \n",
            "---  ------                 --------------  ----- \n",
            " 0   complaints             21072 non-null  object\n",
            " 1   lemmatized_complaints  21072 non-null  object\n",
            " 2   complaint_POS_removed  21072 non-null  object\n",
            " 3   Complaint_clean        21072 non-null  object\n",
            "dtypes: object(4)\n",
            "memory usage: 823.1+ KB\n"
          ]
        }
      ]
    },
    {
      "cell_type": "markdown",
      "metadata": {
        "id": "k-I0k0QtJrGA"
      },
      "source": [
        "## Feature Extraction\n",
        "Convert the raw texts to a matrix of TF-IDF features\n",
        "\n",
        "**max_df** is used for removing terms that appear too frequently, also known as \"corpus-specific stop words\"\n",
        "max_df = 0.95 means \"ignore terms that appear in more than 95% of the complaints\"\n",
        "\n",
        "**min_df** is used for removing terms that appear too infrequently\n",
        "min_df = 2 means \"ignore terms that appear in less than 2 complaints\""
      ]
    },
    {
      "cell_type": "code",
      "metadata": {
        "id": "Y8fGwaCPJrGA"
      },
      "source": [
        "#Write your code here to initialise the TfidfVectorizer \n",
        "from sklearn.feature_extraction.text import TfidfVectorizer\n",
        "# Transform word vector in tfidf vector\n",
        "vectorizer = TfidfVectorizer(stop_words='english', max_df=0.95, min_df=2)\n",
        "tfidf = vectorizer.fit_transform(df_clean.Complaint_clean) \n",
        "\n"
      ],
      "execution_count": 49,
      "outputs": []
    },
    {
      "cell_type": "markdown",
      "metadata": {
        "id": "yYzD85nTJrGA"
      },
      "source": [
        "#### Create a document term matrix using fit_transform\n",
        "\n",
        "The contents of a document term matrix are tuples of (complaint_id,token_id) tf-idf score:\n",
        "The tuples that are not there have a tf-idf score of 0"
      ]
    },
    {
      "cell_type": "code",
      "metadata": {
        "id": "ffzdDpp_JrGB"
      },
      "source": [
        "#Write your code here to create the Document Term Matrix by transforming the complaints column present in df_clean.\n",
        "dtm = vectorizer.fit_transform(df_clean['Complaint_clean'])#tfidf\n"
      ],
      "execution_count": 50,
      "outputs": []
    },
    {
      "cell_type": "markdown",
      "metadata": {
        "id": "7Q9lwvNEJrGB"
      },
      "source": [
        "## Topic Modelling using NMF\n",
        "\n",
        "Non-Negative Matrix Factorization (NMF) is an unsupervised technique so there are no labeling of topics that the model will be trained on. The way it works is that, NMF decomposes (or factorizes) high-dimensional vectors into a lower-dimensional representation. These lower-dimensional vectors are non-negative which also means their coefficients are non-negative.\n",
        "\n",
        "In this task you have to perform the following:\n",
        "\n",
        "* Find the best number of clusters \n",
        "* Apply the best number to create word clusters\n",
        "* Inspect & validate the correction of each cluster wrt the complaints \n",
        "* Correct the labels if needed \n",
        "* Map the clusters to topics/cluster names"
      ]
    },
    {
      "cell_type": "code",
      "metadata": {
        "id": "amLT4omWJrGB"
      },
      "source": [
        "from sklearn.decomposition import NMF"
      ],
      "execution_count": 51,
      "outputs": []
    },
    {
      "cell_type": "code",
      "metadata": {
        "id": "Wm_D1ia0uGjj"
      },
      "source": [
        "from sklearn.feature_extraction.text import CountVectorizer, TfidfVectorizer\n"
      ],
      "execution_count": 52,
      "outputs": []
    },
    {
      "cell_type": "markdown",
      "metadata": {
        "id": "0wYR1xUTJrGD"
      },
      "source": [
        "## Manual Topic Modeling\n",
        "You need to do take the trial & error approach to find the best num of topics for your NMF model.\n",
        "\n",
        "The only parameter that is required is the number of components i.e. the number of topics we want. This is the most crucial step in the whole topic modeling process and will greatly affect how good your final topics are."
      ]
    },
    {
      "cell_type": "markdown",
      "metadata": {
        "id": "yxGGfjuSM2fc"
      },
      "source": [
        "### 5 is chosen as best cluster based on data dictionary provided by Bank"
      ]
    },
    {
      "cell_type": "code",
      "metadata": {
        "id": "sgd2A6bhJrGD"
      },
      "source": [
        "#Load your nmf_model with the n_components i.e 5\n",
        "num_topics = 5\n",
        "\n",
        "#keep the random_state =40\n",
        "nmf_model = NMF(n_components = 5, random_state = 100)"
      ],
      "execution_count": 53,
      "outputs": []
    },
    {
      "cell_type": "code",
      "metadata": {
        "id": "iwJudiH5s6RV"
      },
      "source": [
        "    def get_feature_names():\n",
        "        \"\"\"Array mapping from feature integer indices to feature name.\n",
        "        Returns\n",
        "        -------\n",
        "        feature_names : list\n",
        "            A list of feature names.\n",
        "        \"\"\"\n",
        "        self._check_vocabulary()\n",
        "\n",
        "        return [t for t, i in sorted(self.vocabulary_.items(), key=itemgetter(1))]"
      ],
      "execution_count": 54,
      "outputs": []
    },
    {
      "cell_type": "code",
      "metadata": {
        "id": "LmnTzRly-N45"
      },
      "source": [
        "from sklearn.feature_extraction.text import TfidfTransformer\n",
        "from sklearn.feature_extraction.text import CountVectorizer\n",
        "from sklearn.pipeline import Pipeline"
      ],
      "execution_count": 55,
      "outputs": []
    },
    {
      "cell_type": "code",
      "metadata": {
        "id": "wiBI6J3ZudEy",
        "colab": {
          "base_uri": "https://localhost:8080/"
        },
        "outputId": "93aa6856-8bca-4219-dde2-f15132339576"
      },
      "source": [
        "nmf_model.fit(dtm)\n",
        "len(vectorizer.get_feature_names())"
      ],
      "execution_count": 56,
      "outputs": [
        {
          "output_type": "execute_result",
          "data": {
            "text/plain": [
              "6514"
            ]
          },
          "metadata": {},
          "execution_count": 56
        }
      ]
    },
    {
      "cell_type": "code",
      "metadata": {
        "id": "16kRfat5JrGE",
        "colab": {
          "base_uri": "https://localhost:8080/",
          "height": 1000
        },
        "outputId": "ca256afb-7542-43fe-89cf-62f5e5b6cb2c"
      },
      "source": [
        "#Print the Top15 words for each of the topics\n",
        "# Create a DataFrame: topic_words\n",
        "topic_words = pd.DataFrame(nmf_model.components_, columns=vectorizer.get_feature_names())\n",
        "\n",
        "for i in range(topic_words.shape[0]):\n",
        "    words = topic_words.iloc[i]\n",
        "    print(f'For topic {i} the words with the highest value are:')\n",
        "    print(words.nlargest(15))\n",
        "    print('\\n')   \n",
        "\n",
        "topic_words"
      ],
      "execution_count": 57,
      "outputs": [
        {
          "output_type": "stream",
          "name": "stdout",
          "text": [
            "For topic 0 the words with the highest value are:\n",
            "account        4.096558\n",
            "check          2.110093\n",
            "money          1.510107\n",
            "bank           1.484745\n",
            "fund           1.155239\n",
            "deposit        1.004933\n",
            "chase          0.993491\n",
            "branch         0.772814\n",
            "day            0.729655\n",
            "number         0.579536\n",
            "transaction    0.537487\n",
            "business       0.535229\n",
            "transfer       0.504876\n",
            "claim          0.470356\n",
            "customer       0.458322\n",
            "Name: 0, dtype: float64\n",
            "\n",
            "\n",
            "For topic 1 the words with the highest value are:\n",
            "credit         3.035070\n",
            "card           2.231219\n",
            "report         1.421925\n",
            "inquiry        0.998626\n",
            "chase          0.540534\n",
            "account        0.505907\n",
            "score          0.439920\n",
            "company        0.396307\n",
            "information    0.321111\n",
            "limit          0.296240\n",
            "application    0.293210\n",
            "debt           0.292821\n",
            "letter         0.282160\n",
            "year           0.255327\n",
            "balance        0.212273\n",
            "Name: 1, dtype: float64\n",
            "\n",
            "\n",
            "For topic 2 the words with the highest value are:\n",
            "payment      3.933589\n",
            "balance      0.711090\n",
            "month        0.597110\n",
            "fee          0.492572\n",
            "statement    0.467941\n",
            "day          0.331975\n",
            "pay          0.311677\n",
            "time         0.284171\n",
            "date         0.268081\n",
            "auto         0.253845\n",
            "credit       0.240323\n",
            "chase        0.236219\n",
            "account      0.209929\n",
            "year         0.182856\n",
            "mortgage     0.175604\n",
            "Name: 2, dtype: float64\n",
            "\n",
            "\n",
            "For topic 3 the words with the highest value are:\n",
            "charge         2.767563\n",
            "card           1.179395\n",
            "fee            1.009669\n",
            "transaction    0.825763\n",
            "dispute        0.802581\n",
            "chase          0.778450\n",
            "merchant       0.577084\n",
            "purchase       0.538369\n",
            "fraud          0.478758\n",
            "claim          0.478375\n",
            "service        0.415610\n",
            "refund         0.362927\n",
            "time           0.360274\n",
            "statement      0.348605\n",
            "balance        0.335843\n",
            "Name: 3, dtype: float64\n",
            "\n",
            "\n",
            "For topic 4 the words with the highest value are:\n",
            "loan            2.296860\n",
            "mortgage        1.679353\n",
            "modification    0.828932\n",
            "home            0.800738\n",
            "chase           0.746227\n",
            "property        0.550746\n",
            "year            0.523529\n",
            "letter          0.484756\n",
            "time            0.470683\n",
            "document        0.466127\n",
            "rate            0.458402\n",
            "sale            0.387789\n",
            "foreclosure     0.378248\n",
            "house           0.378024\n",
            "information     0.357350\n",
            "Name: 4, dtype: float64\n",
            "\n",
            "\n"
          ]
        },
        {
          "output_type": "execute_result",
          "data": {
            "text/html": [
              "<div>\n",
              "<style scoped>\n",
              "    .dataframe tbody tr th:only-of-type {\n",
              "        vertical-align: middle;\n",
              "    }\n",
              "\n",
              "    .dataframe tbody tr th {\n",
              "        vertical-align: top;\n",
              "    }\n",
              "\n",
              "    .dataframe thead th {\n",
              "        text-align: right;\n",
              "    }\n",
              "</style>\n",
              "<table border=\"1\" class=\"dataframe\">\n",
              "  <thead>\n",
              "    <tr style=\"text-align: right;\">\n",
              "      <th></th>\n",
              "      <th>aarp</th>\n",
              "      <th>abandon</th>\n",
              "      <th>abandonment</th>\n",
              "      <th>abatement</th>\n",
              "      <th>abet</th>\n",
              "      <th>abide</th>\n",
              "      <th>abiding</th>\n",
              "      <th>ability</th>\n",
              "      <th>abovementione</th>\n",
              "      <th>abovereference</th>\n",
              "      <th>abscond</th>\n",
              "      <th>absence</th>\n",
              "      <th>absolve</th>\n",
              "      <th>absorb</th>\n",
              "      <th>absurdity</th>\n",
              "      <th>abundance</th>\n",
              "      <th>abuse</th>\n",
              "      <th>abuser</th>\n",
              "      <th>ac</th>\n",
              "      <th>acccount</th>\n",
              "      <th>acceleration</th>\n",
              "      <th>accent</th>\n",
              "      <th>accept</th>\n",
              "      <th>acceptance</th>\n",
              "      <th>access</th>\n",
              "      <th>accessibility</th>\n",
              "      <th>accessory</th>\n",
              "      <th>accident</th>\n",
              "      <th>acco</th>\n",
              "      <th>accommodation</th>\n",
              "      <th>accomodation</th>\n",
              "      <th>accompany</th>\n",
              "      <th>accomplice</th>\n",
              "      <th>accomplish</th>\n",
              "      <th>accont</th>\n",
              "      <th>accord</th>\n",
              "      <th>accordance</th>\n",
              "      <th>accou</th>\n",
              "      <th>accouint</th>\n",
              "      <th>accound</th>\n",
              "      <th>...</th>\n",
              "      <th>worthiness</th>\n",
              "      <th>worthlessness</th>\n",
              "      <th>woudl</th>\n",
              "      <th>wouldbe</th>\n",
              "      <th>wound</th>\n",
              "      <th>wrangle</th>\n",
              "      <th>wrap</th>\n",
              "      <th>wreck</th>\n",
              "      <th>wrist</th>\n",
              "      <th>wristband</th>\n",
              "      <th>writ</th>\n",
              "      <th>write</th>\n",
              "      <th>writeoff</th>\n",
              "      <th>writer</th>\n",
              "      <th>writing</th>\n",
              "      <th>wrong</th>\n",
              "      <th>wrongdoe</th>\n",
              "      <th>wrongdoing</th>\n",
              "      <th>wthe</th>\n",
              "      <th>wwwchasecom</th>\n",
              "      <th>wwwjusticegovpaoverview_omb</th>\n",
              "      <th>xx</th>\n",
              "      <th>xxx</th>\n",
              "      <th>yard</th>\n",
              "      <th>yea</th>\n",
              "      <th>year</th>\n",
              "      <th>yearold</th>\n",
              "      <th>yell</th>\n",
              "      <th>yesterday</th>\n",
              "      <th>yield</th>\n",
              "      <th>yo</th>\n",
              "      <th>yoga</th>\n",
              "      <th>youth</th>\n",
              "      <th>yr</th>\n",
              "      <th>yrs</th>\n",
              "      <th>ys</th>\n",
              "      <th>ytd</th>\n",
              "      <th>zip</th>\n",
              "      <th>zombie</th>\n",
              "      <th>zone</th>\n",
              "    </tr>\n",
              "  </thead>\n",
              "  <tbody>\n",
              "    <tr>\n",
              "      <th>0</th>\n",
              "      <td>0.000000</td>\n",
              "      <td>0.001680</td>\n",
              "      <td>0.00000</td>\n",
              "      <td>0.000229</td>\n",
              "      <td>0.000000</td>\n",
              "      <td>0.000461</td>\n",
              "      <td>0.000793</td>\n",
              "      <td>0.027905</td>\n",
              "      <td>0.000017</td>\n",
              "      <td>0.000000</td>\n",
              "      <td>0.000000</td>\n",
              "      <td>0.001380</td>\n",
              "      <td>0.000535</td>\n",
              "      <td>0.000000</td>\n",
              "      <td>0.000387</td>\n",
              "      <td>0.000000</td>\n",
              "      <td>0.021470</td>\n",
              "      <td>0.000000</td>\n",
              "      <td>0.002034</td>\n",
              "      <td>0.003868</td>\n",
              "      <td>0.000000</td>\n",
              "      <td>0.005620</td>\n",
              "      <td>0.006803</td>\n",
              "      <td>0.001368</td>\n",
              "      <td>0.330340</td>\n",
              "      <td>0.000513</td>\n",
              "      <td>0.000000</td>\n",
              "      <td>0.010298</td>\n",
              "      <td>0.000894</td>\n",
              "      <td>0.003004</td>\n",
              "      <td>0.000000</td>\n",
              "      <td>0.000212</td>\n",
              "      <td>0.000209</td>\n",
              "      <td>0.001068</td>\n",
              "      <td>0.000832</td>\n",
              "      <td>0.039428</td>\n",
              "      <td>0.003007</td>\n",
              "      <td>0.001544</td>\n",
              "      <td>0.000000</td>\n",
              "      <td>0.000000</td>\n",
              "      <td>...</td>\n",
              "      <td>0.000000</td>\n",
              "      <td>0.000000</td>\n",
              "      <td>0.001498</td>\n",
              "      <td>0.000372</td>\n",
              "      <td>0.000169</td>\n",
              "      <td>0.001017</td>\n",
              "      <td>0.000000</td>\n",
              "      <td>0.000204</td>\n",
              "      <td>0.000222</td>\n",
              "      <td>0.000301</td>\n",
              "      <td>0.000572</td>\n",
              "      <td>0.016738</td>\n",
              "      <td>0.000009</td>\n",
              "      <td>0.014577</td>\n",
              "      <td>0.014390</td>\n",
              "      <td>0.018421</td>\n",
              "      <td>0.000297</td>\n",
              "      <td>0.001545</td>\n",
              "      <td>0.000011</td>\n",
              "      <td>0.000000</td>\n",
              "      <td>0.000000</td>\n",
              "      <td>0.000000</td>\n",
              "      <td>0.000000</td>\n",
              "      <td>0.000153</td>\n",
              "      <td>0.000449</td>\n",
              "      <td>0.219004</td>\n",
              "      <td>0.000176</td>\n",
              "      <td>0.000493</td>\n",
              "      <td>0.054726</td>\n",
              "      <td>0.004451</td>\n",
              "      <td>0.000000</td>\n",
              "      <td>0.000000</td>\n",
              "      <td>0.000714</td>\n",
              "      <td>0.000000</td>\n",
              "      <td>0.000000</td>\n",
              "      <td>0.000000</td>\n",
              "      <td>0.000000</td>\n",
              "      <td>0.002148</td>\n",
              "      <td>0.000000</td>\n",
              "      <td>0.000000</td>\n",
              "    </tr>\n",
              "    <tr>\n",
              "      <th>1</th>\n",
              "      <td>0.001544</td>\n",
              "      <td>0.000125</td>\n",
              "      <td>0.00000</td>\n",
              "      <td>0.000000</td>\n",
              "      <td>0.000000</td>\n",
              "      <td>0.000372</td>\n",
              "      <td>0.000000</td>\n",
              "      <td>0.031537</td>\n",
              "      <td>0.000457</td>\n",
              "      <td>0.000000</td>\n",
              "      <td>0.000000</td>\n",
              "      <td>0.001467</td>\n",
              "      <td>0.001493</td>\n",
              "      <td>0.000623</td>\n",
              "      <td>0.000000</td>\n",
              "      <td>0.000000</td>\n",
              "      <td>0.009712</td>\n",
              "      <td>0.000459</td>\n",
              "      <td>0.000000</td>\n",
              "      <td>0.000000</td>\n",
              "      <td>0.000000</td>\n",
              "      <td>0.001130</td>\n",
              "      <td>0.000401</td>\n",
              "      <td>0.001617</td>\n",
              "      <td>0.022593</td>\n",
              "      <td>0.000433</td>\n",
              "      <td>0.000214</td>\n",
              "      <td>0.004181</td>\n",
              "      <td>0.000048</td>\n",
              "      <td>0.004598</td>\n",
              "      <td>0.000000</td>\n",
              "      <td>0.000000</td>\n",
              "      <td>0.000429</td>\n",
              "      <td>0.000000</td>\n",
              "      <td>0.000000</td>\n",
              "      <td>0.024565</td>\n",
              "      <td>0.009398</td>\n",
              "      <td>0.000201</td>\n",
              "      <td>0.001055</td>\n",
              "      <td>0.000111</td>\n",
              "      <td>...</td>\n",
              "      <td>0.015852</td>\n",
              "      <td>0.000233</td>\n",
              "      <td>0.000000</td>\n",
              "      <td>0.000000</td>\n",
              "      <td>0.000000</td>\n",
              "      <td>0.000000</td>\n",
              "      <td>0.000000</td>\n",
              "      <td>0.000196</td>\n",
              "      <td>0.000270</td>\n",
              "      <td>0.000000</td>\n",
              "      <td>0.000000</td>\n",
              "      <td>0.032418</td>\n",
              "      <td>0.000791</td>\n",
              "      <td>0.000000</td>\n",
              "      <td>0.006524</td>\n",
              "      <td>0.003129</td>\n",
              "      <td>0.000000</td>\n",
              "      <td>0.000675</td>\n",
              "      <td>0.000411</td>\n",
              "      <td>0.000000</td>\n",
              "      <td>0.000103</td>\n",
              "      <td>0.000000</td>\n",
              "      <td>0.000000</td>\n",
              "      <td>0.000000</td>\n",
              "      <td>0.000551</td>\n",
              "      <td>0.255327</td>\n",
              "      <td>0.000534</td>\n",
              "      <td>0.000000</td>\n",
              "      <td>0.008799</td>\n",
              "      <td>0.000000</td>\n",
              "      <td>0.000000</td>\n",
              "      <td>0.000000</td>\n",
              "      <td>0.000000</td>\n",
              "      <td>0.000000</td>\n",
              "      <td>0.000058</td>\n",
              "      <td>0.000702</td>\n",
              "      <td>0.000000</td>\n",
              "      <td>0.002626</td>\n",
              "      <td>0.000331</td>\n",
              "      <td>0.000000</td>\n",
              "    </tr>\n",
              "    <tr>\n",
              "      <th>2</th>\n",
              "      <td>0.000000</td>\n",
              "      <td>0.000000</td>\n",
              "      <td>0.00001</td>\n",
              "      <td>0.000340</td>\n",
              "      <td>0.000602</td>\n",
              "      <td>0.000000</td>\n",
              "      <td>0.000000</td>\n",
              "      <td>0.020704</td>\n",
              "      <td>0.000142</td>\n",
              "      <td>0.000117</td>\n",
              "      <td>0.000000</td>\n",
              "      <td>0.002957</td>\n",
              "      <td>0.000000</td>\n",
              "      <td>0.000000</td>\n",
              "      <td>0.000000</td>\n",
              "      <td>0.000000</td>\n",
              "      <td>0.000000</td>\n",
              "      <td>0.000090</td>\n",
              "      <td>0.000000</td>\n",
              "      <td>0.000000</td>\n",
              "      <td>0.002269</td>\n",
              "      <td>0.000000</td>\n",
              "      <td>0.000057</td>\n",
              "      <td>0.004096</td>\n",
              "      <td>0.000000</td>\n",
              "      <td>0.000000</td>\n",
              "      <td>0.000000</td>\n",
              "      <td>0.013083</td>\n",
              "      <td>0.000000</td>\n",
              "      <td>0.006037</td>\n",
              "      <td>0.001173</td>\n",
              "      <td>0.000114</td>\n",
              "      <td>0.000022</td>\n",
              "      <td>0.000000</td>\n",
              "      <td>0.000000</td>\n",
              "      <td>0.030637</td>\n",
              "      <td>0.005616</td>\n",
              "      <td>0.000000</td>\n",
              "      <td>0.000000</td>\n",
              "      <td>0.000000</td>\n",
              "      <td>...</td>\n",
              "      <td>0.004250</td>\n",
              "      <td>0.000000</td>\n",
              "      <td>0.000000</td>\n",
              "      <td>0.000966</td>\n",
              "      <td>0.000000</td>\n",
              "      <td>0.000000</td>\n",
              "      <td>0.000000</td>\n",
              "      <td>0.002121</td>\n",
              "      <td>0.000000</td>\n",
              "      <td>0.000404</td>\n",
              "      <td>0.000000</td>\n",
              "      <td>0.000000</td>\n",
              "      <td>0.000250</td>\n",
              "      <td>0.000000</td>\n",
              "      <td>0.000997</td>\n",
              "      <td>0.012916</td>\n",
              "      <td>0.000000</td>\n",
              "      <td>0.000000</td>\n",
              "      <td>0.000263</td>\n",
              "      <td>0.001216</td>\n",
              "      <td>0.000000</td>\n",
              "      <td>0.000000</td>\n",
              "      <td>0.000998</td>\n",
              "      <td>0.000550</td>\n",
              "      <td>0.000000</td>\n",
              "      <td>0.182856</td>\n",
              "      <td>0.000000</td>\n",
              "      <td>0.000233</td>\n",
              "      <td>0.009392</td>\n",
              "      <td>0.000000</td>\n",
              "      <td>0.000000</td>\n",
              "      <td>0.000000</td>\n",
              "      <td>0.000000</td>\n",
              "      <td>0.002450</td>\n",
              "      <td>0.000416</td>\n",
              "      <td>0.000427</td>\n",
              "      <td>0.000168</td>\n",
              "      <td>0.004061</td>\n",
              "      <td>0.000000</td>\n",
              "      <td>0.002697</td>\n",
              "    </tr>\n",
              "    <tr>\n",
              "      <th>3</th>\n",
              "      <td>0.000000</td>\n",
              "      <td>0.000123</td>\n",
              "      <td>0.00000</td>\n",
              "      <td>0.000000</td>\n",
              "      <td>0.000413</td>\n",
              "      <td>0.000744</td>\n",
              "      <td>0.000000</td>\n",
              "      <td>0.006483</td>\n",
              "      <td>0.000322</td>\n",
              "      <td>0.000000</td>\n",
              "      <td>0.000000</td>\n",
              "      <td>0.000772</td>\n",
              "      <td>0.000000</td>\n",
              "      <td>0.000291</td>\n",
              "      <td>0.000807</td>\n",
              "      <td>0.001230</td>\n",
              "      <td>0.011437</td>\n",
              "      <td>0.000000</td>\n",
              "      <td>0.000694</td>\n",
              "      <td>0.000000</td>\n",
              "      <td>0.000000</td>\n",
              "      <td>0.003747</td>\n",
              "      <td>0.000102</td>\n",
              "      <td>0.000499</td>\n",
              "      <td>0.001673</td>\n",
              "      <td>0.000000</td>\n",
              "      <td>0.001399</td>\n",
              "      <td>0.001747</td>\n",
              "      <td>0.000681</td>\n",
              "      <td>0.000075</td>\n",
              "      <td>0.000953</td>\n",
              "      <td>0.000048</td>\n",
              "      <td>0.000159</td>\n",
              "      <td>0.000000</td>\n",
              "      <td>0.000496</td>\n",
              "      <td>0.028743</td>\n",
              "      <td>0.002142</td>\n",
              "      <td>0.000101</td>\n",
              "      <td>0.000000</td>\n",
              "      <td>0.000584</td>\n",
              "      <td>...</td>\n",
              "      <td>0.000000</td>\n",
              "      <td>0.000574</td>\n",
              "      <td>0.000000</td>\n",
              "      <td>0.000000</td>\n",
              "      <td>0.000150</td>\n",
              "      <td>0.000432</td>\n",
              "      <td>0.001492</td>\n",
              "      <td>0.000000</td>\n",
              "      <td>0.000324</td>\n",
              "      <td>0.000913</td>\n",
              "      <td>0.000134</td>\n",
              "      <td>0.007783</td>\n",
              "      <td>0.000000</td>\n",
              "      <td>0.000000</td>\n",
              "      <td>0.021302</td>\n",
              "      <td>0.007523</td>\n",
              "      <td>0.000752</td>\n",
              "      <td>0.001604</td>\n",
              "      <td>0.000000</td>\n",
              "      <td>0.000034</td>\n",
              "      <td>0.000000</td>\n",
              "      <td>0.000648</td>\n",
              "      <td>0.000129</td>\n",
              "      <td>0.000163</td>\n",
              "      <td>0.000822</td>\n",
              "      <td>0.067685</td>\n",
              "      <td>0.000000</td>\n",
              "      <td>0.000431</td>\n",
              "      <td>0.029226</td>\n",
              "      <td>0.001066</td>\n",
              "      <td>0.001865</td>\n",
              "      <td>0.000878</td>\n",
              "      <td>0.000000</td>\n",
              "      <td>0.002305</td>\n",
              "      <td>0.000000</td>\n",
              "      <td>0.000013</td>\n",
              "      <td>0.000752</td>\n",
              "      <td>0.002960</td>\n",
              "      <td>0.000582</td>\n",
              "      <td>0.002590</td>\n",
              "    </tr>\n",
              "    <tr>\n",
              "      <th>4</th>\n",
              "      <td>0.000000</td>\n",
              "      <td>0.002964</td>\n",
              "      <td>0.00116</td>\n",
              "      <td>0.001533</td>\n",
              "      <td>0.000000</td>\n",
              "      <td>0.000610</td>\n",
              "      <td>0.000000</td>\n",
              "      <td>0.040207</td>\n",
              "      <td>0.000312</td>\n",
              "      <td>0.000245</td>\n",
              "      <td>0.000673</td>\n",
              "      <td>0.001702</td>\n",
              "      <td>0.000000</td>\n",
              "      <td>0.000061</td>\n",
              "      <td>0.000492</td>\n",
              "      <td>0.000833</td>\n",
              "      <td>0.027937</td>\n",
              "      <td>0.000159</td>\n",
              "      <td>0.001946</td>\n",
              "      <td>0.000000</td>\n",
              "      <td>0.002412</td>\n",
              "      <td>0.001326</td>\n",
              "      <td>0.001291</td>\n",
              "      <td>0.008760</td>\n",
              "      <td>0.011607</td>\n",
              "      <td>0.000540</td>\n",
              "      <td>0.001153</td>\n",
              "      <td>0.011656</td>\n",
              "      <td>0.000000</td>\n",
              "      <td>0.000466</td>\n",
              "      <td>0.000000</td>\n",
              "      <td>0.002212</td>\n",
              "      <td>0.000241</td>\n",
              "      <td>0.000084</td>\n",
              "      <td>0.001139</td>\n",
              "      <td>0.047909</td>\n",
              "      <td>0.011770</td>\n",
              "      <td>0.000000</td>\n",
              "      <td>0.000292</td>\n",
              "      <td>0.000069</td>\n",
              "      <td>...</td>\n",
              "      <td>0.001875</td>\n",
              "      <td>0.000000</td>\n",
              "      <td>0.000085</td>\n",
              "      <td>0.000471</td>\n",
              "      <td>0.000510</td>\n",
              "      <td>0.000000</td>\n",
              "      <td>0.002488</td>\n",
              "      <td>0.002697</td>\n",
              "      <td>0.000000</td>\n",
              "      <td>0.000000</td>\n",
              "      <td>0.003175</td>\n",
              "      <td>0.027415</td>\n",
              "      <td>0.000928</td>\n",
              "      <td>0.000497</td>\n",
              "      <td>0.030556</td>\n",
              "      <td>0.007059</td>\n",
              "      <td>0.000525</td>\n",
              "      <td>0.003676</td>\n",
              "      <td>0.000224</td>\n",
              "      <td>0.000257</td>\n",
              "      <td>0.000031</td>\n",
              "      <td>0.001192</td>\n",
              "      <td>0.000138</td>\n",
              "      <td>0.005737</td>\n",
              "      <td>0.001000</td>\n",
              "      <td>0.523529</td>\n",
              "      <td>0.000000</td>\n",
              "      <td>0.000556</td>\n",
              "      <td>0.014728</td>\n",
              "      <td>0.002748</td>\n",
              "      <td>0.000000</td>\n",
              "      <td>0.000000</td>\n",
              "      <td>0.000068</td>\n",
              "      <td>0.009141</td>\n",
              "      <td>0.002868</td>\n",
              "      <td>0.000000</td>\n",
              "      <td>0.000370</td>\n",
              "      <td>0.002046</td>\n",
              "      <td>0.002055</td>\n",
              "      <td>0.003619</td>\n",
              "    </tr>\n",
              "  </tbody>\n",
              "</table>\n",
              "<p>5 rows × 6514 columns</p>\n",
              "</div>"
            ],
            "text/plain": [
              "       aarp   abandon  abandonment  ...       zip    zombie      zone\n",
              "0  0.000000  0.001680      0.00000  ...  0.002148  0.000000  0.000000\n",
              "1  0.001544  0.000125      0.00000  ...  0.002626  0.000331  0.000000\n",
              "2  0.000000  0.000000      0.00001  ...  0.004061  0.000000  0.002697\n",
              "3  0.000000  0.000123      0.00000  ...  0.002960  0.000582  0.002590\n",
              "4  0.000000  0.002964      0.00116  ...  0.002046  0.002055  0.003619\n",
              "\n",
              "[5 rows x 6514 columns]"
            ]
          },
          "metadata": {},
          "execution_count": 57
        }
      ]
    },
    {
      "cell_type": "code",
      "metadata": {
        "id": "0OIT7LmFJrGF",
        "colab": {
          "base_uri": "https://localhost:8080/"
        },
        "outputId": "4dfbceb3-61d8-4475-ce81-e549179510d5"
      },
      "source": [
        "#Create the best topic for each complaint in terms of integer value 0,1,2,3 & 4\n",
        "topic_results = nmf_model.transform(dtm)\n",
        "topic_results[0].round(2)\n",
        "topic_results[0].argmax()\n",
        "topic_results.argmax(axis=1)\n"
      ],
      "execution_count": 58,
      "outputs": [
        {
          "output_type": "execute_result",
          "data": {
            "text/plain": [
              "array([0, 1, 1, ..., 3, 2, 2])"
            ]
          },
          "metadata": {},
          "execution_count": 58
        }
      ]
    },
    {
      "cell_type": "code",
      "metadata": {
        "id": "peyYv-ORJrGF"
      },
      "source": [
        "#Assign the best topic to each of the complaints in Topic Column\n",
        "df_clean['Topic'] = topic_results.argmax(axis=1)"
      ],
      "execution_count": 59,
      "outputs": []
    },
    {
      "cell_type": "code",
      "metadata": {
        "id": "fE-VI1m9N7_k",
        "colab": {
          "base_uri": "https://localhost:8080/",
          "height": 657
        },
        "outputId": "f1c0ae6b-580c-4eb0-cf6e-76c69db2ce13"
      },
      "source": [
        "df_clean"
      ],
      "execution_count": 60,
      "outputs": [
        {
          "output_type": "execute_result",
          "data": {
            "text/html": [
              "<div>\n",
              "<style scoped>\n",
              "    .dataframe tbody tr th:only-of-type {\n",
              "        vertical-align: middle;\n",
              "    }\n",
              "\n",
              "    .dataframe tbody tr th {\n",
              "        vertical-align: top;\n",
              "    }\n",
              "\n",
              "    .dataframe thead th {\n",
              "        text-align: right;\n",
              "    }\n",
              "</style>\n",
              "<table border=\"1\" class=\"dataframe\">\n",
              "  <thead>\n",
              "    <tr style=\"text-align: right;\">\n",
              "      <th></th>\n",
              "      <th>complaints</th>\n",
              "      <th>lemmatized_complaints</th>\n",
              "      <th>complaint_POS_removed</th>\n",
              "      <th>Complaint_clean</th>\n",
              "      <th>Topic</th>\n",
              "    </tr>\n",
              "  </thead>\n",
              "  <tbody>\n",
              "    <tr>\n",
              "      <th>1</th>\n",
              "      <td>good morning my name is xxxx xxxx and i apprec...</td>\n",
              "      <td>good morning -PRON- name be xxxx xxxx and i ap...</td>\n",
              "      <td>morning name stop bank cardmember service debt...</td>\n",
              "      <td>morning name stop bank cardmember service debt...</td>\n",
              "      <td>0</td>\n",
              "    </tr>\n",
              "    <tr>\n",
              "      <th>2</th>\n",
              "      <td>i upgraded my xxxx xxxx card in xxxx and was t...</td>\n",
              "      <td>i upgrade -PRON- xxxx xxxx card in xxxx and be...</td>\n",
              "      <td>card agent anniversary date agent information ...</td>\n",
              "      <td>card agent anniversary date agent information ...</td>\n",
              "      <td>1</td>\n",
              "    </tr>\n",
              "    <tr>\n",
              "      <th>10</th>\n",
              "      <td>chase card was reported on xxxx however fraudu...</td>\n",
              "      <td>chase card be report on xxxx however fraudulen...</td>\n",
              "      <td>card report application submit identity consen...</td>\n",
              "      <td>card report application submit identity consen...</td>\n",
              "      <td>1</td>\n",
              "    </tr>\n",
              "    <tr>\n",
              "      <th>11</th>\n",
              "      <td>on xxxx while trying to book a xxxx  xxxx  tic...</td>\n",
              "      <td>on xxxx while try to book a xxxx   xxxx   tick...</td>\n",
              "      <td>xxxx ticket offer ticket reward card informati...</td>\n",
              "      <td>ticket offer ticket reward card information o...</td>\n",
              "      <td>1</td>\n",
              "    </tr>\n",
              "    <tr>\n",
              "      <th>14</th>\n",
              "      <td>my grand son give me check for  i deposit it i...</td>\n",
              "      <td>-PRON- grand son give -PRON- check for   i dep...</td>\n",
              "      <td>son chase account fund account money say son c...</td>\n",
              "      <td>son chase account fund account money say son c...</td>\n",
              "      <td>0</td>\n",
              "    </tr>\n",
              "    <tr>\n",
              "      <th>...</th>\n",
              "      <td>...</td>\n",
              "      <td>...</td>\n",
              "      <td>...</td>\n",
              "      <td>...</td>\n",
              "      <td>...</td>\n",
              "    </tr>\n",
              "    <tr>\n",
              "      <th>78303</th>\n",
              "      <td>after being a chase card customer for well ove...</td>\n",
              "      <td>after be a chase card customer for well over a...</td>\n",
              "      <td>chase card customer decade solicitation credit...</td>\n",
              "      <td>chase card customer decade solicitation credit...</td>\n",
              "      <td>1</td>\n",
              "    </tr>\n",
              "    <tr>\n",
              "      <th>78309</th>\n",
              "      <td>on wednesday xxxxxxxx i called chas my xxxx xx...</td>\n",
              "      <td>on wednesday xxxxxxxx i call chas -PRON- xxxx ...</td>\n",
              "      <td>card provider claim protection benefit school ...</td>\n",
              "      <td>card provider claim protection benefit school ...</td>\n",
              "      <td>3</td>\n",
              "    </tr>\n",
              "    <tr>\n",
              "      <th>78310</th>\n",
              "      <td>i am not familiar with xxxx pay and did not un...</td>\n",
              "      <td>i be not familiar with xxxx pay and do not und...</td>\n",
              "      <td>risk provide consumer chase year trust banking...</td>\n",
              "      <td>risk provide consumer chase year trust banking...</td>\n",
              "      <td>3</td>\n",
              "    </tr>\n",
              "    <tr>\n",
              "      <th>78311</th>\n",
              "      <td>i have had flawless credit for  yrs ive had ch...</td>\n",
              "      <td>i have have flawless credit for   yrs -PRON- h...</td>\n",
              "      <td>credit chase credit card chase freedom xxxx pr...</td>\n",
              "      <td>credit chase credit card chase freedom  proble...</td>\n",
              "      <td>2</td>\n",
              "    </tr>\n",
              "    <tr>\n",
              "      <th>78312</th>\n",
              "      <td>roughly  years ago i closed out my accounts wi...</td>\n",
              "      <td>roughly   year ago i close out -PRON- account ...</td>\n",
              "      <td>year account order line credit account payment...</td>\n",
              "      <td>year account order line credit account payment...</td>\n",
              "      <td>2</td>\n",
              "    </tr>\n",
              "  </tbody>\n",
              "</table>\n",
              "<p>21072 rows × 5 columns</p>\n",
              "</div>"
            ],
            "text/plain": [
              "                                              complaints  ... Topic\n",
              "1      good morning my name is xxxx xxxx and i apprec...  ...     0\n",
              "2      i upgraded my xxxx xxxx card in xxxx and was t...  ...     1\n",
              "10     chase card was reported on xxxx however fraudu...  ...     1\n",
              "11     on xxxx while trying to book a xxxx  xxxx  tic...  ...     1\n",
              "14     my grand son give me check for  i deposit it i...  ...     0\n",
              "...                                                  ...  ...   ...\n",
              "78303  after being a chase card customer for well ove...  ...     1\n",
              "78309  on wednesday xxxxxxxx i called chas my xxxx xx...  ...     3\n",
              "78310  i am not familiar with xxxx pay and did not un...  ...     3\n",
              "78311  i have had flawless credit for  yrs ive had ch...  ...     2\n",
              "78312  roughly  years ago i closed out my accounts wi...  ...     2\n",
              "\n",
              "[21072 rows x 5 columns]"
            ]
          },
          "metadata": {},
          "execution_count": 60
        }
      ]
    },
    {
      "cell_type": "code",
      "metadata": {
        "id": "aQKpufSPJrGG",
        "colab": {
          "base_uri": "https://localhost:8080/",
          "height": 1000
        },
        "outputId": "370c8446-a442-4cb5-8c53-978b80a3f843"
      },
      "source": [
        "#Print the first 5 Complaint for each of the Topics\n",
        "df_clean_group=df_clean.groupby('Topic').head(5)\n",
        "df_clean_group.sort_values('Topic')"
      ],
      "execution_count": 61,
      "outputs": [
        {
          "output_type": "execute_result",
          "data": {
            "text/html": [
              "<div>\n",
              "<style scoped>\n",
              "    .dataframe tbody tr th:only-of-type {\n",
              "        vertical-align: middle;\n",
              "    }\n",
              "\n",
              "    .dataframe tbody tr th {\n",
              "        vertical-align: top;\n",
              "    }\n",
              "\n",
              "    .dataframe thead th {\n",
              "        text-align: right;\n",
              "    }\n",
              "</style>\n",
              "<table border=\"1\" class=\"dataframe\">\n",
              "  <thead>\n",
              "    <tr style=\"text-align: right;\">\n",
              "      <th></th>\n",
              "      <th>complaints</th>\n",
              "      <th>lemmatized_complaints</th>\n",
              "      <th>complaint_POS_removed</th>\n",
              "      <th>Complaint_clean</th>\n",
              "      <th>Topic</th>\n",
              "    </tr>\n",
              "  </thead>\n",
              "  <tbody>\n",
              "    <tr>\n",
              "      <th>1</th>\n",
              "      <td>good morning my name is xxxx xxxx and i apprec...</td>\n",
              "      <td>good morning -PRON- name be xxxx xxxx and i ap...</td>\n",
              "      <td>morning name stop bank cardmember service debt...</td>\n",
              "      <td>morning name stop bank cardmember service debt...</td>\n",
              "      <td>0</td>\n",
              "    </tr>\n",
              "    <tr>\n",
              "      <th>14</th>\n",
              "      <td>my grand son give me check for  i deposit it i...</td>\n",
              "      <td>-PRON- grand son give -PRON- check for   i dep...</td>\n",
              "      <td>son chase account fund account money say son c...</td>\n",
              "      <td>son chase account fund account money say son c...</td>\n",
              "      <td>0</td>\n",
              "    </tr>\n",
              "    <tr>\n",
              "      <th>17</th>\n",
              "      <td>with out notice jp morgan chase restricted my ...</td>\n",
              "      <td>with out notice jp morgan chase restrict -PRON...</td>\n",
              "      <td>notice account card branch customer service re...</td>\n",
              "      <td>notice account card branch customer service re...</td>\n",
              "      <td>0</td>\n",
              "    </tr>\n",
              "    <tr>\n",
              "      <th>24</th>\n",
              "      <td>mishandling of this account by chase auto and ...</td>\n",
              "      <td>mishandle of this account by chase auto and xxxx</td>\n",
              "      <td>mishandle account</td>\n",
              "      <td>mishandle account</td>\n",
              "      <td>0</td>\n",
              "    </tr>\n",
              "    <tr>\n",
              "      <th>27</th>\n",
              "      <td>i opened an account with chase bank on xxxx an...</td>\n",
              "      <td>i open an account with chase bank on xxxx and ...</td>\n",
              "      <td>account code bonus xxxxxxxx term account xxxx ...</td>\n",
              "      <td>account code bonus  term account  deposit bonu...</td>\n",
              "      <td>0</td>\n",
              "    </tr>\n",
              "    <tr>\n",
              "      <th>2</th>\n",
              "      <td>i upgraded my xxxx xxxx card in xxxx and was t...</td>\n",
              "      <td>i upgrade -PRON- xxxx xxxx card in xxxx and be...</td>\n",
              "      <td>card agent anniversary date agent information ...</td>\n",
              "      <td>card agent anniversary date agent information ...</td>\n",
              "      <td>1</td>\n",
              "    </tr>\n",
              "    <tr>\n",
              "      <th>10</th>\n",
              "      <td>chase card was reported on xxxx however fraudu...</td>\n",
              "      <td>chase card be report on xxxx however fraudulen...</td>\n",
              "      <td>card report application submit identity consen...</td>\n",
              "      <td>card report application submit identity consen...</td>\n",
              "      <td>1</td>\n",
              "    </tr>\n",
              "    <tr>\n",
              "      <th>11</th>\n",
              "      <td>on xxxx while trying to book a xxxx  xxxx  tic...</td>\n",
              "      <td>on xxxx while try to book a xxxx   xxxx   tick...</td>\n",
              "      <td>xxxx ticket offer ticket reward card informati...</td>\n",
              "      <td>ticket offer ticket reward card information o...</td>\n",
              "      <td>1</td>\n",
              "    </tr>\n",
              "    <tr>\n",
              "      <th>15</th>\n",
              "      <td>can you please remove inquiry</td>\n",
              "      <td>can -PRON- please remove inquiry</td>\n",
              "      <td>inquiry</td>\n",
              "      <td>inquiry</td>\n",
              "      <td>1</td>\n",
              "    </tr>\n",
              "    <tr>\n",
              "      <th>23</th>\n",
              "      <td>i have a chase credit card which is incorrectl...</td>\n",
              "      <td>i have a chase credit card which be incorrectl...</td>\n",
              "      <td>chase credit card credit report company help i...</td>\n",
              "      <td>chase credit card credit report company help i...</td>\n",
              "      <td>1</td>\n",
              "    </tr>\n",
              "    <tr>\n",
              "      <th>82</th>\n",
              "      <td>i recently called to ask chase bank why they r...</td>\n",
              "      <td>i recently call to ask chase bank why -PRON- r...</td>\n",
              "      <td>credit bureau day payment info -PRON- xxxx bil...</td>\n",
              "      <td>credit bureau day payment info   bill balance ...</td>\n",
              "      <td>2</td>\n",
              "    </tr>\n",
              "    <tr>\n",
              "      <th>58</th>\n",
              "      <td>i made a purchase of  on xxxxxxxx i made payme...</td>\n",
              "      <td>i make a purchase of   on xxxxxxxx i make paym...</td>\n",
              "      <td>purchase payment xxxxxxxx payment closing date...</td>\n",
              "      <td>purchase payment  payment closing date  statem...</td>\n",
              "      <td>2</td>\n",
              "    </tr>\n",
              "    <tr>\n",
              "      <th>167</th>\n",
              "      <td>a double payment from my chase debt cart to ch...</td>\n",
              "      <td>a double payment from -PRON- chase debt cart t...</td>\n",
              "      <td>payment chase debt cart credit card post reque...</td>\n",
              "      <td>payment chase debt cart credit card post reque...</td>\n",
              "      <td>2</td>\n",
              "    </tr>\n",
              "    <tr>\n",
              "      <th>20</th>\n",
              "      <td>during the summer months i experience a declin...</td>\n",
              "      <td>during the summer month i experience a decline...</td>\n",
              "      <td>summer month decline income employment month p...</td>\n",
              "      <td>summer month decline income employment month p...</td>\n",
              "      <td>2</td>\n",
              "    </tr>\n",
              "    <tr>\n",
              "      <th>141</th>\n",
              "      <td>action taken by the company between the dates ...</td>\n",
              "      <td>action take by the company between the date of...</td>\n",
              "      <td>action company date individual chase claim cla...</td>\n",
              "      <td>action company date individual chase claim cla...</td>\n",
              "      <td>2</td>\n",
              "    </tr>\n",
              "    <tr>\n",
              "      <th>32</th>\n",
              "      <td>my chase amazon card was declined for a cateri...</td>\n",
              "      <td>-PRON- chase amazon card be decline for a cate...</td>\n",
              "      <td>card decline catering order place brother fune...</td>\n",
              "      <td>card decline catering order place brother fune...</td>\n",
              "      <td>3</td>\n",
              "    </tr>\n",
              "    <tr>\n",
              "      <th>40</th>\n",
              "      <td>xxxx xxxx a sofa love seat table and chairs an...</td>\n",
              "      <td>xxxx xxxx a sofa love seat table and chair and...</td>\n",
              "      <td>sofa love seat table chair debit card charge b...</td>\n",
              "      <td>sofa love seat table chair debit card charge b...</td>\n",
              "      <td>3</td>\n",
              "    </tr>\n",
              "    <tr>\n",
              "      <th>45</th>\n",
              "      <td>i made a purchase with xxxx xxxx xxxx on xxxx ...</td>\n",
              "      <td>i make a purchase with xxxx xxxx xxxx on xxxx ...</td>\n",
              "      <td>purchase amount charge transaction dispute cas...</td>\n",
              "      <td>purchase amount charge transaction dispute cas...</td>\n",
              "      <td>3</td>\n",
              "    </tr>\n",
              "    <tr>\n",
              "      <th>21</th>\n",
              "      <td>on xxxx xxxx i made a  payment to an online re...</td>\n",
              "      <td>on xxxx xxxx i make a   payment to an online r...</td>\n",
              "      <td>payment retailer use chase pay chase website s...</td>\n",
              "      <td>payment retailer use chase pay chase website s...</td>\n",
              "      <td>3</td>\n",
              "    </tr>\n",
              "    <tr>\n",
              "      <th>30</th>\n",
              "      <td>to whom it may concern chase bank charged wron...</td>\n",
              "      <td>to whom -PRON- may concern chase bank charge w...</td>\n",
              "      <td>concern charge overdraft fee alert balance uns...</td>\n",
              "      <td>concern charge overdraft fee alert balance uns...</td>\n",
              "      <td>3</td>\n",
              "    </tr>\n",
              "    <tr>\n",
              "      <th>43</th>\n",
              "      <td>chase sent me an email today with the innocuou...</td>\n",
              "      <td>chase send -PRON- an email today with the inno...</td>\n",
              "      <td>email today title information regard change ac...</td>\n",
              "      <td>email today title information regard change ac...</td>\n",
              "      <td>4</td>\n",
              "    </tr>\n",
              "    <tr>\n",
              "      <th>57</th>\n",
              "      <td>i have been trying to do a loan modification w...</td>\n",
              "      <td>i have be try to do a loan modification with c...</td>\n",
              "      <td>loan modification chase runaround payment</td>\n",
              "      <td>loan modification chase runaround payment</td>\n",
              "      <td>4</td>\n",
              "    </tr>\n",
              "    <tr>\n",
              "      <th>73</th>\n",
              "      <td>i have wired through one of chase branches in ...</td>\n",
              "      <td>i have wire through one of chase branch in xxx...</td>\n",
              "      <td>wire branch reinstatement amount order foreclo...</td>\n",
              "      <td>wire branch reinstatement amount order foreclo...</td>\n",
              "      <td>4</td>\n",
              "    </tr>\n",
              "    <tr>\n",
              "      <th>81</th>\n",
              "      <td>i bought a new xxxx xxxx on xxxxxxxx from xxxx...</td>\n",
              "      <td>i buy a new xxxx xxxx on xxxxxxxx from xxxx xx...</td>\n",
              "      <td>xxxx loan title chase time resolution time -PR...</td>\n",
              "      <td>loan title chase time resolution time  state ...</td>\n",
              "      <td>4</td>\n",
              "    </tr>\n",
              "    <tr>\n",
              "      <th>99</th>\n",
              "      <td>my name is xxxx xxxx i have missed a payment i...</td>\n",
              "      <td>-PRON- name be xxxx xxxx i have miss a payment...</td>\n",
              "      <td>name payment day time loan modification loss m...</td>\n",
              "      <td>name payment day time loan modification loss m...</td>\n",
              "      <td>4</td>\n",
              "    </tr>\n",
              "  </tbody>\n",
              "</table>\n",
              "</div>"
            ],
            "text/plain": [
              "                                            complaints  ... Topic\n",
              "1    good morning my name is xxxx xxxx and i apprec...  ...     0\n",
              "14   my grand son give me check for  i deposit it i...  ...     0\n",
              "17   with out notice jp morgan chase restricted my ...  ...     0\n",
              "24   mishandling of this account by chase auto and ...  ...     0\n",
              "27   i opened an account with chase bank on xxxx an...  ...     0\n",
              "2    i upgraded my xxxx xxxx card in xxxx and was t...  ...     1\n",
              "10   chase card was reported on xxxx however fraudu...  ...     1\n",
              "11   on xxxx while trying to book a xxxx  xxxx  tic...  ...     1\n",
              "15                       can you please remove inquiry  ...     1\n",
              "23   i have a chase credit card which is incorrectl...  ...     1\n",
              "82   i recently called to ask chase bank why they r...  ...     2\n",
              "58   i made a purchase of  on xxxxxxxx i made payme...  ...     2\n",
              "167  a double payment from my chase debt cart to ch...  ...     2\n",
              "20   during the summer months i experience a declin...  ...     2\n",
              "141  action taken by the company between the dates ...  ...     2\n",
              "32   my chase amazon card was declined for a cateri...  ...     3\n",
              "40   xxxx xxxx a sofa love seat table and chairs an...  ...     3\n",
              "45   i made a purchase with xxxx xxxx xxxx on xxxx ...  ...     3\n",
              "21   on xxxx xxxx i made a  payment to an online re...  ...     3\n",
              "30   to whom it may concern chase bank charged wron...  ...     3\n",
              "43   chase sent me an email today with the innocuou...  ...     4\n",
              "57   i have been trying to do a loan modification w...  ...     4\n",
              "73   i have wired through one of chase branches in ...  ...     4\n",
              "81   i bought a new xxxx xxxx on xxxxxxxx from xxxx...  ...     4\n",
              "99   my name is xxxx xxxx i have missed a payment i...  ...     4\n",
              "\n",
              "[25 rows x 5 columns]"
            ]
          },
          "metadata": {},
          "execution_count": 61
        }
      ]
    },
    {
      "cell_type": "code",
      "metadata": {
        "id": "1oDsyB02Uw0G",
        "colab": {
          "base_uri": "https://localhost:8080/"
        },
        "outputId": "0fe3ed86-a6d6-4356-ac5f-ccb76b0016f8"
      },
      "source": [
        "df_clean.Topic.value_counts()"
      ],
      "execution_count": 62,
      "outputs": [
        {
          "output_type": "execute_result",
          "data": {
            "text/plain": [
              "0    5176\n",
              "1    5043\n",
              "3    4710\n",
              "4    3894\n",
              "2    2249\n",
              "Name: Topic, dtype: int64"
            ]
          },
          "metadata": {},
          "execution_count": 62
        }
      ]
    },
    {
      "cell_type": "markdown",
      "metadata": {
        "id": "piyLxzj6v07j"
      },
      "source": [
        "#### After evaluating the mapping, if the topics assigned are correct then assign these names to the relevant topic:\n",
        "* Bank Account services\n",
        "* Credit card or prepaid card\n",
        "* Theft/Dispute Reporting\n",
        "* Mortgage/Loan\n",
        "* Others"
      ]
    },
    {
      "cell_type": "code",
      "metadata": {
        "id": "TWpwDG4RJrGG"
      },
      "source": [
        "#Create the dictionary of Topic names and Topics\n",
        "\n",
        "Topic_names = {0:\"Bank Account services\",\n",
        "               1:\"Credit card or prepaid card\",\n",
        "               3:\"Theft/Dispute Reporting\",\n",
        "               4:\"Mortgage/Loan\",\n",
        "               2:\"Others\"\n",
        "                }\n",
        "               \n",
        "#Replace Topics with Topic Names\n",
        "df_clean['Topic'] = df_clean['Topic'].map(Topic_names)"
      ],
      "execution_count": 63,
      "outputs": []
    },
    {
      "cell_type": "code",
      "metadata": {
        "id": "-2ULY5K6JrGG",
        "colab": {
          "base_uri": "https://localhost:8080/",
          "height": 742
        },
        "outputId": "03f93920-2e9a-4f98-b8de-4766f6137c99"
      },
      "source": [
        "df_clean"
      ],
      "execution_count": 64,
      "outputs": [
        {
          "output_type": "execute_result",
          "data": {
            "text/html": [
              "<div>\n",
              "<style scoped>\n",
              "    .dataframe tbody tr th:only-of-type {\n",
              "        vertical-align: middle;\n",
              "    }\n",
              "\n",
              "    .dataframe tbody tr th {\n",
              "        vertical-align: top;\n",
              "    }\n",
              "\n",
              "    .dataframe thead th {\n",
              "        text-align: right;\n",
              "    }\n",
              "</style>\n",
              "<table border=\"1\" class=\"dataframe\">\n",
              "  <thead>\n",
              "    <tr style=\"text-align: right;\">\n",
              "      <th></th>\n",
              "      <th>complaints</th>\n",
              "      <th>lemmatized_complaints</th>\n",
              "      <th>complaint_POS_removed</th>\n",
              "      <th>Complaint_clean</th>\n",
              "      <th>Topic</th>\n",
              "    </tr>\n",
              "  </thead>\n",
              "  <tbody>\n",
              "    <tr>\n",
              "      <th>1</th>\n",
              "      <td>good morning my name is xxxx xxxx and i apprec...</td>\n",
              "      <td>good morning -PRON- name be xxxx xxxx and i ap...</td>\n",
              "      <td>morning name stop bank cardmember service debt...</td>\n",
              "      <td>morning name stop bank cardmember service debt...</td>\n",
              "      <td>Bank Account services</td>\n",
              "    </tr>\n",
              "    <tr>\n",
              "      <th>2</th>\n",
              "      <td>i upgraded my xxxx xxxx card in xxxx and was t...</td>\n",
              "      <td>i upgrade -PRON- xxxx xxxx card in xxxx and be...</td>\n",
              "      <td>card agent anniversary date agent information ...</td>\n",
              "      <td>card agent anniversary date agent information ...</td>\n",
              "      <td>Credit card or prepaid card</td>\n",
              "    </tr>\n",
              "    <tr>\n",
              "      <th>10</th>\n",
              "      <td>chase card was reported on xxxx however fraudu...</td>\n",
              "      <td>chase card be report on xxxx however fraudulen...</td>\n",
              "      <td>card report application submit identity consen...</td>\n",
              "      <td>card report application submit identity consen...</td>\n",
              "      <td>Credit card or prepaid card</td>\n",
              "    </tr>\n",
              "    <tr>\n",
              "      <th>11</th>\n",
              "      <td>on xxxx while trying to book a xxxx  xxxx  tic...</td>\n",
              "      <td>on xxxx while try to book a xxxx   xxxx   tick...</td>\n",
              "      <td>xxxx ticket offer ticket reward card informati...</td>\n",
              "      <td>ticket offer ticket reward card information o...</td>\n",
              "      <td>Credit card or prepaid card</td>\n",
              "    </tr>\n",
              "    <tr>\n",
              "      <th>14</th>\n",
              "      <td>my grand son give me check for  i deposit it i...</td>\n",
              "      <td>-PRON- grand son give -PRON- check for   i dep...</td>\n",
              "      <td>son chase account fund account money say son c...</td>\n",
              "      <td>son chase account fund account money say son c...</td>\n",
              "      <td>Bank Account services</td>\n",
              "    </tr>\n",
              "    <tr>\n",
              "      <th>...</th>\n",
              "      <td>...</td>\n",
              "      <td>...</td>\n",
              "      <td>...</td>\n",
              "      <td>...</td>\n",
              "      <td>...</td>\n",
              "    </tr>\n",
              "    <tr>\n",
              "      <th>78303</th>\n",
              "      <td>after being a chase card customer for well ove...</td>\n",
              "      <td>after be a chase card customer for well over a...</td>\n",
              "      <td>chase card customer decade solicitation credit...</td>\n",
              "      <td>chase card customer decade solicitation credit...</td>\n",
              "      <td>Credit card or prepaid card</td>\n",
              "    </tr>\n",
              "    <tr>\n",
              "      <th>78309</th>\n",
              "      <td>on wednesday xxxxxxxx i called chas my xxxx xx...</td>\n",
              "      <td>on wednesday xxxxxxxx i call chas -PRON- xxxx ...</td>\n",
              "      <td>card provider claim protection benefit school ...</td>\n",
              "      <td>card provider claim protection benefit school ...</td>\n",
              "      <td>Theft/Dispute Reporting</td>\n",
              "    </tr>\n",
              "    <tr>\n",
              "      <th>78310</th>\n",
              "      <td>i am not familiar with xxxx pay and did not un...</td>\n",
              "      <td>i be not familiar with xxxx pay and do not und...</td>\n",
              "      <td>risk provide consumer chase year trust banking...</td>\n",
              "      <td>risk provide consumer chase year trust banking...</td>\n",
              "      <td>Theft/Dispute Reporting</td>\n",
              "    </tr>\n",
              "    <tr>\n",
              "      <th>78311</th>\n",
              "      <td>i have had flawless credit for  yrs ive had ch...</td>\n",
              "      <td>i have have flawless credit for   yrs -PRON- h...</td>\n",
              "      <td>credit chase credit card chase freedom xxxx pr...</td>\n",
              "      <td>credit chase credit card chase freedom  proble...</td>\n",
              "      <td>Others</td>\n",
              "    </tr>\n",
              "    <tr>\n",
              "      <th>78312</th>\n",
              "      <td>roughly  years ago i closed out my accounts wi...</td>\n",
              "      <td>roughly   year ago i close out -PRON- account ...</td>\n",
              "      <td>year account order line credit account payment...</td>\n",
              "      <td>year account order line credit account payment...</td>\n",
              "      <td>Others</td>\n",
              "    </tr>\n",
              "  </tbody>\n",
              "</table>\n",
              "<p>21072 rows × 5 columns</p>\n",
              "</div>"
            ],
            "text/plain": [
              "                                              complaints  ...                        Topic\n",
              "1      good morning my name is xxxx xxxx and i apprec...  ...        Bank Account services\n",
              "2      i upgraded my xxxx xxxx card in xxxx and was t...  ...  Credit card or prepaid card\n",
              "10     chase card was reported on xxxx however fraudu...  ...  Credit card or prepaid card\n",
              "11     on xxxx while trying to book a xxxx  xxxx  tic...  ...  Credit card or prepaid card\n",
              "14     my grand son give me check for  i deposit it i...  ...        Bank Account services\n",
              "...                                                  ...  ...                          ...\n",
              "78303  after being a chase card customer for well ove...  ...  Credit card or prepaid card\n",
              "78309  on wednesday xxxxxxxx i called chas my xxxx xx...  ...      Theft/Dispute Reporting\n",
              "78310  i am not familiar with xxxx pay and did not un...  ...      Theft/Dispute Reporting\n",
              "78311  i have had flawless credit for  yrs ive had ch...  ...                       Others\n",
              "78312  roughly  years ago i closed out my accounts wi...  ...                       Others\n",
              "\n",
              "[21072 rows x 5 columns]"
            ]
          },
          "metadata": {},
          "execution_count": 64
        }
      ]
    },
    {
      "cell_type": "code",
      "metadata": {
        "id": "YAt2J2MnVfzO",
        "colab": {
          "base_uri": "https://localhost:8080/"
        },
        "outputId": "c6b437f6-71f3-4150-b769-3a2e6156b621"
      },
      "source": [
        "df_clean.Topic.value_counts()"
      ],
      "execution_count": 65,
      "outputs": [
        {
          "output_type": "execute_result",
          "data": {
            "text/plain": [
              "Bank Account services          5176\n",
              "Credit card or prepaid card    5043\n",
              "Theft/Dispute Reporting        4710\n",
              "Mortgage/Loan                  3894\n",
              "Others                         2249\n",
              "Name: Topic, dtype: int64"
            ]
          },
          "metadata": {},
          "execution_count": 65
        }
      ]
    },
    {
      "cell_type": "markdown",
      "metadata": {
        "id": "7Mu0QBOcJrGH"
      },
      "source": [
        "## Supervised model to predict any new complaints to the relevant Topics.\n",
        "\n",
        "You have now build the model to create the topics for each complaints.Now in the below section you will use them to classify any new complaints.\n",
        "\n",
        "Since you will be using supervised learning technique we have to convert the topic names to numbers(numpy arrays only understand numbers)"
      ]
    },
    {
      "cell_type": "code",
      "metadata": {
        "id": "_U8J3J8wJrGH"
      },
      "source": [
        "#Create the dictionary again of Topic names and Topics\n",
        "\n",
        "Topic_names = {\"Bank Account services\":0,\n",
        "               \"Credit card or prepaid card\":1,\n",
        "               \"Others\":2,\n",
        "               \"Theft/Dispute Reporting\":3,\n",
        "               \"Mortgage/Loan\":4}\n",
        "               \n",
        "#Replace Topics with Topic Names\n",
        "df_clean['Topic'] = df_clean['Topic'].map(Topic_names)"
      ],
      "execution_count": 66,
      "outputs": []
    },
    {
      "cell_type": "code",
      "metadata": {
        "id": "BWIgJUkQJrGH",
        "colab": {
          "base_uri": "https://localhost:8080/",
          "height": 657
        },
        "outputId": "0878d4e8-e530-47b8-beb8-5db7fcc32225"
      },
      "source": [
        "df_clean"
      ],
      "execution_count": 67,
      "outputs": [
        {
          "output_type": "execute_result",
          "data": {
            "text/html": [
              "<div>\n",
              "<style scoped>\n",
              "    .dataframe tbody tr th:only-of-type {\n",
              "        vertical-align: middle;\n",
              "    }\n",
              "\n",
              "    .dataframe tbody tr th {\n",
              "        vertical-align: top;\n",
              "    }\n",
              "\n",
              "    .dataframe thead th {\n",
              "        text-align: right;\n",
              "    }\n",
              "</style>\n",
              "<table border=\"1\" class=\"dataframe\">\n",
              "  <thead>\n",
              "    <tr style=\"text-align: right;\">\n",
              "      <th></th>\n",
              "      <th>complaints</th>\n",
              "      <th>lemmatized_complaints</th>\n",
              "      <th>complaint_POS_removed</th>\n",
              "      <th>Complaint_clean</th>\n",
              "      <th>Topic</th>\n",
              "    </tr>\n",
              "  </thead>\n",
              "  <tbody>\n",
              "    <tr>\n",
              "      <th>1</th>\n",
              "      <td>good morning my name is xxxx xxxx and i apprec...</td>\n",
              "      <td>good morning -PRON- name be xxxx xxxx and i ap...</td>\n",
              "      <td>morning name stop bank cardmember service debt...</td>\n",
              "      <td>morning name stop bank cardmember service debt...</td>\n",
              "      <td>0</td>\n",
              "    </tr>\n",
              "    <tr>\n",
              "      <th>2</th>\n",
              "      <td>i upgraded my xxxx xxxx card in xxxx and was t...</td>\n",
              "      <td>i upgrade -PRON- xxxx xxxx card in xxxx and be...</td>\n",
              "      <td>card agent anniversary date agent information ...</td>\n",
              "      <td>card agent anniversary date agent information ...</td>\n",
              "      <td>1</td>\n",
              "    </tr>\n",
              "    <tr>\n",
              "      <th>10</th>\n",
              "      <td>chase card was reported on xxxx however fraudu...</td>\n",
              "      <td>chase card be report on xxxx however fraudulen...</td>\n",
              "      <td>card report application submit identity consen...</td>\n",
              "      <td>card report application submit identity consen...</td>\n",
              "      <td>1</td>\n",
              "    </tr>\n",
              "    <tr>\n",
              "      <th>11</th>\n",
              "      <td>on xxxx while trying to book a xxxx  xxxx  tic...</td>\n",
              "      <td>on xxxx while try to book a xxxx   xxxx   tick...</td>\n",
              "      <td>xxxx ticket offer ticket reward card informati...</td>\n",
              "      <td>ticket offer ticket reward card information o...</td>\n",
              "      <td>1</td>\n",
              "    </tr>\n",
              "    <tr>\n",
              "      <th>14</th>\n",
              "      <td>my grand son give me check for  i deposit it i...</td>\n",
              "      <td>-PRON- grand son give -PRON- check for   i dep...</td>\n",
              "      <td>son chase account fund account money say son c...</td>\n",
              "      <td>son chase account fund account money say son c...</td>\n",
              "      <td>0</td>\n",
              "    </tr>\n",
              "    <tr>\n",
              "      <th>...</th>\n",
              "      <td>...</td>\n",
              "      <td>...</td>\n",
              "      <td>...</td>\n",
              "      <td>...</td>\n",
              "      <td>...</td>\n",
              "    </tr>\n",
              "    <tr>\n",
              "      <th>78303</th>\n",
              "      <td>after being a chase card customer for well ove...</td>\n",
              "      <td>after be a chase card customer for well over a...</td>\n",
              "      <td>chase card customer decade solicitation credit...</td>\n",
              "      <td>chase card customer decade solicitation credit...</td>\n",
              "      <td>1</td>\n",
              "    </tr>\n",
              "    <tr>\n",
              "      <th>78309</th>\n",
              "      <td>on wednesday xxxxxxxx i called chas my xxxx xx...</td>\n",
              "      <td>on wednesday xxxxxxxx i call chas -PRON- xxxx ...</td>\n",
              "      <td>card provider claim protection benefit school ...</td>\n",
              "      <td>card provider claim protection benefit school ...</td>\n",
              "      <td>3</td>\n",
              "    </tr>\n",
              "    <tr>\n",
              "      <th>78310</th>\n",
              "      <td>i am not familiar with xxxx pay and did not un...</td>\n",
              "      <td>i be not familiar with xxxx pay and do not und...</td>\n",
              "      <td>risk provide consumer chase year trust banking...</td>\n",
              "      <td>risk provide consumer chase year trust banking...</td>\n",
              "      <td>3</td>\n",
              "    </tr>\n",
              "    <tr>\n",
              "      <th>78311</th>\n",
              "      <td>i have had flawless credit for  yrs ive had ch...</td>\n",
              "      <td>i have have flawless credit for   yrs -PRON- h...</td>\n",
              "      <td>credit chase credit card chase freedom xxxx pr...</td>\n",
              "      <td>credit chase credit card chase freedom  proble...</td>\n",
              "      <td>2</td>\n",
              "    </tr>\n",
              "    <tr>\n",
              "      <th>78312</th>\n",
              "      <td>roughly  years ago i closed out my accounts wi...</td>\n",
              "      <td>roughly   year ago i close out -PRON- account ...</td>\n",
              "      <td>year account order line credit account payment...</td>\n",
              "      <td>year account order line credit account payment...</td>\n",
              "      <td>2</td>\n",
              "    </tr>\n",
              "  </tbody>\n",
              "</table>\n",
              "<p>21072 rows × 5 columns</p>\n",
              "</div>"
            ],
            "text/plain": [
              "                                              complaints  ... Topic\n",
              "1      good morning my name is xxxx xxxx and i apprec...  ...     0\n",
              "2      i upgraded my xxxx xxxx card in xxxx and was t...  ...     1\n",
              "10     chase card was reported on xxxx however fraudu...  ...     1\n",
              "11     on xxxx while trying to book a xxxx  xxxx  tic...  ...     1\n",
              "14     my grand son give me check for  i deposit it i...  ...     0\n",
              "...                                                  ...  ...   ...\n",
              "78303  after being a chase card customer for well ove...  ...     1\n",
              "78309  on wednesday xxxxxxxx i called chas my xxxx xx...  ...     3\n",
              "78310  i am not familiar with xxxx pay and did not un...  ...     3\n",
              "78311  i have had flawless credit for  yrs ive had ch...  ...     2\n",
              "78312  roughly  years ago i closed out my accounts wi...  ...     2\n",
              "\n",
              "[21072 rows x 5 columns]"
            ]
          },
          "metadata": {},
          "execution_count": 67
        }
      ]
    },
    {
      "cell_type": "code",
      "metadata": {
        "id": "Pr5PATCQWKGt"
      },
      "source": [
        "df_clean.to_csv('df_clean_premodel.csv', index=False)"
      ],
      "execution_count": 68,
      "outputs": []
    },
    {
      "cell_type": "code",
      "metadata": {
        "id": "SDl4Jd97SRtO",
        "colab": {
          "base_uri": "https://localhost:8080/"
        },
        "outputId": "1b651a65-47f1-4faf-ed43-bf0b571d1467"
      },
      "source": [
        "## Code for internal purpose to reduce the execution time while preparing case study--commented\n",
        "#df_clean = pd.read_csv('df_clean_premodel.csv')\n",
        "#df_clean\n",
        "df_clean.info()"
      ],
      "execution_count": 69,
      "outputs": [
        {
          "output_type": "stream",
          "name": "stdout",
          "text": [
            "<class 'pandas.core.frame.DataFrame'>\n",
            "Int64Index: 21072 entries, 1 to 78312\n",
            "Data columns (total 5 columns):\n",
            " #   Column                 Non-Null Count  Dtype \n",
            "---  ------                 --------------  ----- \n",
            " 0   complaints             21072 non-null  object\n",
            " 1   lemmatized_complaints  21072 non-null  object\n",
            " 2   complaint_POS_removed  21072 non-null  object\n",
            " 3   Complaint_clean        21072 non-null  object\n",
            " 4   Topic                  21072 non-null  int64 \n",
            "dtypes: int64(1), object(4)\n",
            "memory usage: 987.8+ KB\n"
          ]
        }
      ]
    },
    {
      "cell_type": "code",
      "metadata": {
        "id": "Xx-FrbkWJrGH"
      },
      "source": [
        "#Keep the columns\"complaints\" & \"Topic\" only in the new dataframe --> training_data\n",
        "training_data= df_clean[[\"complaints\",\"Topic\"]]"
      ],
      "execution_count": 70,
      "outputs": []
    },
    {
      "cell_type": "code",
      "metadata": {
        "id": "lVg2pa12JrGI",
        "colab": {
          "base_uri": "https://localhost:8080/",
          "height": 419
        },
        "outputId": "d4e76c7b-ac68-4e75-9a13-f6d1876e699e"
      },
      "source": [
        "training_data"
      ],
      "execution_count": 71,
      "outputs": [
        {
          "output_type": "execute_result",
          "data": {
            "text/html": [
              "<div>\n",
              "<style scoped>\n",
              "    .dataframe tbody tr th:only-of-type {\n",
              "        vertical-align: middle;\n",
              "    }\n",
              "\n",
              "    .dataframe tbody tr th {\n",
              "        vertical-align: top;\n",
              "    }\n",
              "\n",
              "    .dataframe thead th {\n",
              "        text-align: right;\n",
              "    }\n",
              "</style>\n",
              "<table border=\"1\" class=\"dataframe\">\n",
              "  <thead>\n",
              "    <tr style=\"text-align: right;\">\n",
              "      <th></th>\n",
              "      <th>complaints</th>\n",
              "      <th>Topic</th>\n",
              "    </tr>\n",
              "  </thead>\n",
              "  <tbody>\n",
              "    <tr>\n",
              "      <th>1</th>\n",
              "      <td>good morning my name is xxxx xxxx and i apprec...</td>\n",
              "      <td>0</td>\n",
              "    </tr>\n",
              "    <tr>\n",
              "      <th>2</th>\n",
              "      <td>i upgraded my xxxx xxxx card in xxxx and was t...</td>\n",
              "      <td>1</td>\n",
              "    </tr>\n",
              "    <tr>\n",
              "      <th>10</th>\n",
              "      <td>chase card was reported on xxxx however fraudu...</td>\n",
              "      <td>1</td>\n",
              "    </tr>\n",
              "    <tr>\n",
              "      <th>11</th>\n",
              "      <td>on xxxx while trying to book a xxxx  xxxx  tic...</td>\n",
              "      <td>1</td>\n",
              "    </tr>\n",
              "    <tr>\n",
              "      <th>14</th>\n",
              "      <td>my grand son give me check for  i deposit it i...</td>\n",
              "      <td>0</td>\n",
              "    </tr>\n",
              "    <tr>\n",
              "      <th>...</th>\n",
              "      <td>...</td>\n",
              "      <td>...</td>\n",
              "    </tr>\n",
              "    <tr>\n",
              "      <th>78303</th>\n",
              "      <td>after being a chase card customer for well ove...</td>\n",
              "      <td>1</td>\n",
              "    </tr>\n",
              "    <tr>\n",
              "      <th>78309</th>\n",
              "      <td>on wednesday xxxxxxxx i called chas my xxxx xx...</td>\n",
              "      <td>3</td>\n",
              "    </tr>\n",
              "    <tr>\n",
              "      <th>78310</th>\n",
              "      <td>i am not familiar with xxxx pay and did not un...</td>\n",
              "      <td>3</td>\n",
              "    </tr>\n",
              "    <tr>\n",
              "      <th>78311</th>\n",
              "      <td>i have had flawless credit for  yrs ive had ch...</td>\n",
              "      <td>2</td>\n",
              "    </tr>\n",
              "    <tr>\n",
              "      <th>78312</th>\n",
              "      <td>roughly  years ago i closed out my accounts wi...</td>\n",
              "      <td>2</td>\n",
              "    </tr>\n",
              "  </tbody>\n",
              "</table>\n",
              "<p>21072 rows × 2 columns</p>\n",
              "</div>"
            ],
            "text/plain": [
              "                                              complaints  Topic\n",
              "1      good morning my name is xxxx xxxx and i apprec...      0\n",
              "2      i upgraded my xxxx xxxx card in xxxx and was t...      1\n",
              "10     chase card was reported on xxxx however fraudu...      1\n",
              "11     on xxxx while trying to book a xxxx  xxxx  tic...      1\n",
              "14     my grand son give me check for  i deposit it i...      0\n",
              "...                                                  ...    ...\n",
              "78303  after being a chase card customer for well ove...      1\n",
              "78309  on wednesday xxxxxxxx i called chas my xxxx xx...      3\n",
              "78310  i am not familiar with xxxx pay and did not un...      3\n",
              "78311  i have had flawless credit for  yrs ive had ch...      2\n",
              "78312  roughly  years ago i closed out my accounts wi...      2\n",
              "\n",
              "[21072 rows x 2 columns]"
            ]
          },
          "metadata": {},
          "execution_count": 71
        }
      ]
    },
    {
      "cell_type": "markdown",
      "metadata": {
        "id": "280Vbqk-7a8M"
      },
      "source": [
        "####Apply the supervised models on the training data created. In this process, you have to do the following:\n",
        "* Create the vector counts using Count Vectoriser\n",
        "* Transform the word vecotr to tf-idf\n",
        "* Create the train & test data using the train_test_split on the tf-idf & topics\n"
      ]
    },
    {
      "cell_type": "code",
      "metadata": {
        "id": "oUlQpgkzJrGI"
      },
      "source": [
        "\n",
        "#Write your code to get the Vector count\n",
        "count_vect = CountVectorizer()\n",
        "X_train_counts = count_vect.fit_transform(training_data['complaints'])\n",
        "\n",
        "#Write your code here to transform the word vector to tf-idf\n",
        "tfidf_transformer = TfidfTransformer()\n",
        "X_train_tfidf = tfidf_transformer.fit_transform(X_train_counts)"
      ],
      "execution_count": 72,
      "outputs": []
    },
    {
      "cell_type": "markdown",
      "metadata": {
        "id": "uMU3vj6w-wqL"
      },
      "source": [
        "You have to try atleast 2 models on the train & test data from these options:\n",
        "* Logistic regression\n",
        "* Decision Tree\n",
        "* Random Forest\n",
        "* Naive Bayes (optional)\n",
        "\n",
        "**Using the required evaluation metrics judge the tried models and select the ones performing the best**"
      ]
    },
    {
      "cell_type": "code",
      "metadata": {
        "id": "udLHpPsZJrGI",
        "colab": {
          "base_uri": "https://localhost:8080/"
        },
        "outputId": "90f6d0af-24f6-41a6-e756-36c6b8338d00"
      },
      "source": [
        "# Write your code here to build any 3 models and evaluate them using the required metrics\n",
        "from sklearn.model_selection import train_test_split\n",
        "X_train, X_test, y_train, y_test = train_test_split(X_train_tfidf, training_data.Topic, test_size=0.25, random_state=42)\n",
        "\n",
        "print(f\"Shape of X_train: {X_train.shape}\")\n",
        "print(f\"Shape of y_train: {y_train.shape}\")\n",
        "print(f\"Shape of X_test: {X_test.shape}\")\n",
        "print(f\"Shape of y_test: {y_test.shape}\")\n",
        "\n"
      ],
      "execution_count": 73,
      "outputs": [
        {
          "output_type": "stream",
          "name": "stdout",
          "text": [
            "Shape of X_train: (15804, 33227)\n",
            "Shape of y_train: (15804,)\n",
            "Shape of X_test: (5268, 33227)\n",
            "Shape of y_test: (5268,)\n"
          ]
        }
      ]
    },
    {
      "cell_type": "markdown",
      "metadata": {
        "id": "UkyUB1dA5TLW"
      },
      "source": [
        "# Using Decision Tree"
      ]
    },
    {
      "cell_type": "code",
      "metadata": {
        "id": "N2OznsObJrGP",
        "colab": {
          "base_uri": "https://localhost:8080/"
        },
        "outputId": "129641f8-0fb8-424b-b4f0-072af141ed73"
      },
      "source": [
        "from sklearn.tree import DecisionTreeClassifier\n",
        "dt_base = DecisionTreeClassifier(random_state=42, max_depth=4)\n",
        "dt_base.fit(X_train, y_train)"
      ],
      "execution_count": 74,
      "outputs": [
        {
          "output_type": "execute_result",
          "data": {
            "text/plain": [
              "DecisionTreeClassifier(ccp_alpha=0.0, class_weight=None, criterion='gini',\n",
              "                       max_depth=4, max_features=None, max_leaf_nodes=None,\n",
              "                       min_impurity_decrease=0.0, min_impurity_split=None,\n",
              "                       min_samples_leaf=1, min_samples_split=2,\n",
              "                       min_weight_fraction_leaf=0.0, presort='deprecated',\n",
              "                       random_state=42, splitter='best')"
            ]
          },
          "metadata": {},
          "execution_count": 74
        }
      ]
    },
    {
      "cell_type": "code",
      "metadata": {
        "id": "ozc0_7dh4HCh"
      },
      "source": [
        "y_train_pred = dt_base.predict(X_train)\n",
        "y_test_pred = dt_base.predict(X_test)"
      ],
      "execution_count": 75,
      "outputs": []
    },
    {
      "cell_type": "code",
      "metadata": {
        "id": "o3pHSnn24JuU",
        "colab": {
          "base_uri": "https://localhost:8080/"
        },
        "outputId": "2f5c1335-c823-4080-8e5f-e882d74b4647"
      },
      "source": [
        "from sklearn.metrics import classification_report\n",
        "target_names = [\"Bank Account services\",\"Credit card or prepaid card\",\"Others\",\"Theft Reporting\",\"Mortgage/Loan\"]\n",
        "print(classification_report(y_test, y_test_pred,target_names=target_names))"
      ],
      "execution_count": 76,
      "outputs": [
        {
          "output_type": "stream",
          "name": "stdout",
          "text": [
            "                             precision    recall  f1-score   support\n",
            "\n",
            "      Bank Account services       0.73      0.61      0.67      1315\n",
            "Credit card or prepaid card       0.78      0.77      0.77      1294\n",
            "                     Others       0.77      0.56      0.65       548\n",
            "            Theft Reporting       0.46      0.80      0.59      1161\n",
            "              Mortgage/Loan       0.91      0.49      0.64       950\n",
            "\n",
            "                   accuracy                           0.66      5268\n",
            "                  macro avg       0.73      0.64      0.66      5268\n",
            "               weighted avg       0.72      0.66      0.67      5268\n",
            "\n"
          ]
        }
      ]
    },
    {
      "cell_type": "markdown",
      "metadata": {
        "id": "mCFnyJC65sht"
      },
      "source": [
        "### Hyper-parameter tuning for the Decision Tree"
      ]
    },
    {
      "cell_type": "code",
      "metadata": {
        "id": "iT8m74mu4PQO"
      },
      "source": [
        "from sklearn.model_selection import GridSearchCV\n",
        "dt = DecisionTreeClassifier(random_state=42)\n",
        "params = {\n",
        "    \"max_depth\": [2,3,5,10,20],\n",
        "    \"min_samples_leaf\": [5,10,20,50,100,500]\n",
        "}\n",
        "grid_search = GridSearchCV(estimator=dt,\n",
        "                           param_grid=params,\n",
        "                           cv=4,\n",
        "                           n_jobs=-1, verbose=1, scoring=\"accuracy\")"
      ],
      "execution_count": 77,
      "outputs": []
    },
    {
      "cell_type": "code",
      "metadata": {
        "id": "DZraOAfb4d9s",
        "colab": {
          "base_uri": "https://localhost:8080/"
        },
        "outputId": "21f17061-c159-4151-cc93-aea0235d03af"
      },
      "source": [
        "%%time\n",
        "grid_search.fit(X_train, y_train)"
      ],
      "execution_count": 78,
      "outputs": [
        {
          "output_type": "stream",
          "name": "stdout",
          "text": [
            "Fitting 4 folds for each of 30 candidates, totalling 120 fits\n"
          ]
        },
        {
          "output_type": "stream",
          "name": "stderr",
          "text": [
            "[Parallel(n_jobs=-1)]: Using backend LokyBackend with 2 concurrent workers.\n",
            "[Parallel(n_jobs=-1)]: Done  46 tasks      | elapsed:   21.0s\n",
            "[Parallel(n_jobs=-1)]: Done 120 out of 120 | elapsed:  1.9min finished\n"
          ]
        },
        {
          "output_type": "stream",
          "name": "stdout",
          "text": [
            "CPU times: user 6.71 s, sys: 154 ms, total: 6.87 s\n",
            "Wall time: 2min 2s\n"
          ]
        },
        {
          "output_type": "execute_result",
          "data": {
            "text/plain": [
              "GridSearchCV(cv=4, error_score=nan,\n",
              "             estimator=DecisionTreeClassifier(ccp_alpha=0.0, class_weight=None,\n",
              "                                              criterion='gini', max_depth=None,\n",
              "                                              max_features=None,\n",
              "                                              max_leaf_nodes=None,\n",
              "                                              min_impurity_decrease=0.0,\n",
              "                                              min_impurity_split=None,\n",
              "                                              min_samples_leaf=1,\n",
              "                                              min_samples_split=2,\n",
              "                                              min_weight_fraction_leaf=0.0,\n",
              "                                              presort='deprecated',\n",
              "                                              random_state=42,\n",
              "                                              splitter='best'),\n",
              "             iid='deprecated', n_jobs=-1,\n",
              "             param_grid={'max_depth': [2, 3, 5, 10, 20],\n",
              "                         'min_samples_leaf': [5, 10, 20, 50, 100, 500]},\n",
              "             pre_dispatch='2*n_jobs', refit=True, return_train_score=False,\n",
              "             scoring='accuracy', verbose=1)"
            ]
          },
          "metadata": {},
          "execution_count": 78
        }
      ]
    },
    {
      "cell_type": "code",
      "metadata": {
        "id": "ZqbPbt1p42Xs",
        "colab": {
          "base_uri": "https://localhost:8080/"
        },
        "outputId": "b684fe29-1e9e-4697-ac61-9167d6aae151"
      },
      "source": [
        "grid_search.best_score_"
      ],
      "execution_count": 79,
      "outputs": [
        {
          "output_type": "execute_result",
          "data": {
            "text/plain": [
              "0.7954948114401418"
            ]
          },
          "metadata": {},
          "execution_count": 79
        }
      ]
    },
    {
      "cell_type": "code",
      "metadata": {
        "id": "WILaxPj_47gm",
        "colab": {
          "base_uri": "https://localhost:8080/"
        },
        "outputId": "c65e39fe-4a41-4328-c29c-1c2ef3a36898"
      },
      "source": [
        "dt_best = grid_search.best_estimator_\n",
        "dt_best"
      ],
      "execution_count": 80,
      "outputs": [
        {
          "output_type": "execute_result",
          "data": {
            "text/plain": [
              "DecisionTreeClassifier(ccp_alpha=0.0, class_weight=None, criterion='gini',\n",
              "                       max_depth=20, max_features=None, max_leaf_nodes=None,\n",
              "                       min_impurity_decrease=0.0, min_impurity_split=None,\n",
              "                       min_samples_leaf=10, min_samples_split=2,\n",
              "                       min_weight_fraction_leaf=0.0, presort='deprecated',\n",
              "                       random_state=42, splitter='best')"
            ]
          },
          "metadata": {},
          "execution_count": 80
        }
      ]
    },
    {
      "cell_type": "markdown",
      "metadata": {
        "id": "Uotb9-vJZMR-"
      },
      "source": [
        "## Evalution Score of Decision Tree with Hyperparameter Tuning"
      ]
    },
    {
      "cell_type": "code",
      "metadata": {
        "id": "NReDjnOiY1QG",
        "colab": {
          "base_uri": "https://localhost:8080/"
        },
        "outputId": "625e8c0f-bf0a-4e7b-ab41-f825d70684af"
      },
      "source": [
        "y_train_pred = dt_best.predict(X_train)\n",
        "y_test_pred = dt_best.predict(X_test)\n",
        "print(classification_report(y_test, y_test_pred,target_names=target_names))"
      ],
      "execution_count": 81,
      "outputs": [
        {
          "output_type": "stream",
          "name": "stdout",
          "text": [
            "                             precision    recall  f1-score   support\n",
            "\n",
            "      Bank Account services       0.81      0.81      0.81      1315\n",
            "Credit card or prepaid card       0.82      0.83      0.83      1294\n",
            "                     Others       0.78      0.75      0.76       548\n",
            "            Theft Reporting       0.78      0.75      0.77      1161\n",
            "              Mortgage/Loan       0.79      0.83      0.81       950\n",
            "\n",
            "                   accuracy                           0.80      5268\n",
            "                  macro avg       0.80      0.79      0.80      5268\n",
            "               weighted avg       0.80      0.80      0.80      5268\n",
            "\n"
          ]
        }
      ]
    },
    {
      "cell_type": "markdown",
      "metadata": {
        "id": "Fw-UJPyK5OIt"
      },
      "source": [
        "# Using Random Forest"
      ]
    },
    {
      "cell_type": "code",
      "metadata": {
        "id": "YhV8daZO5Qvr"
      },
      "source": [
        "from sklearn.ensemble import RandomForestClassifier\n",
        "rf = RandomForestClassifier(n_estimators=10, max_depth=4, max_features=5, random_state=100, oob_score=True)"
      ],
      "execution_count": 82,
      "outputs": []
    },
    {
      "cell_type": "code",
      "metadata": {
        "id": "lGMfxelR5cHU",
        "colab": {
          "base_uri": "https://localhost:8080/"
        },
        "outputId": "373820dd-c900-41de-ac3f-c5c8dbbee80a"
      },
      "source": [
        "%%time\n",
        "rf.fit(X_train, y_train)"
      ],
      "execution_count": 83,
      "outputs": [
        {
          "output_type": "stream",
          "name": "stdout",
          "text": [
            "CPU times: user 136 ms, sys: 6.99 ms, total: 143 ms\n",
            "Wall time: 142 ms\n"
          ]
        },
        {
          "output_type": "execute_result",
          "data": {
            "text/plain": [
              "RandomForestClassifier(bootstrap=True, ccp_alpha=0.0, class_weight=None,\n",
              "                       criterion='gini', max_depth=4, max_features=5,\n",
              "                       max_leaf_nodes=None, max_samples=None,\n",
              "                       min_impurity_decrease=0.0, min_impurity_split=None,\n",
              "                       min_samples_leaf=1, min_samples_split=2,\n",
              "                       min_weight_fraction_leaf=0.0, n_estimators=10,\n",
              "                       n_jobs=None, oob_score=True, random_state=100, verbose=0,\n",
              "                       warm_start=False)"
            ]
          },
          "metadata": {},
          "execution_count": 83
        }
      ]
    },
    {
      "cell_type": "code",
      "metadata": {
        "id": "3wqOKlhx5d2f",
        "colab": {
          "base_uri": "https://localhost:8080/"
        },
        "outputId": "3717d680-89bb-4a82-eeb6-3d259db137df"
      },
      "source": [
        "rf.oob_score_"
      ],
      "execution_count": 84,
      "outputs": [
        {
          "output_type": "execute_result",
          "data": {
            "text/plain": [
              "0.24841812199443178"
            ]
          },
          "metadata": {},
          "execution_count": 84
        }
      ]
    },
    {
      "cell_type": "markdown",
      "metadata": {
        "id": "fwyspgUC504Q"
      },
      "source": [
        "### Hyper-parameter tuning for the Random Forest"
      ]
    },
    {
      "cell_type": "code",
      "metadata": {
        "id": "OgJ8XTR-5zPL"
      },
      "source": [
        "rf = RandomForestClassifier(random_state=42, n_jobs=-1)\n",
        "params = {\n",
        "    'max_depth': [2,3,5,10,20],\n",
        "    'min_samples_leaf': [5,10,20,50,100,200],\n",
        "    'n_estimators': [10, 25, 50, 100]\n",
        "}\n",
        "grid_search = GridSearchCV(estimator=rf,\n",
        "                           param_grid=params,\n",
        "                           cv = 4,\n",
        "                           n_jobs=-1, verbose=1, scoring=\"accuracy\")"
      ],
      "execution_count": 85,
      "outputs": []
    },
    {
      "cell_type": "code",
      "metadata": {
        "id": "HxGmC8iO6CAK",
        "colab": {
          "base_uri": "https://localhost:8080/"
        },
        "outputId": "f46b9d68-2496-4b41-f3eb-78c39a43a6ee"
      },
      "source": [
        "%%time\n",
        "grid_search.fit(X_train, y_train)"
      ],
      "execution_count": 86,
      "outputs": [
        {
          "output_type": "stream",
          "name": "stdout",
          "text": [
            "Fitting 4 folds for each of 120 candidates, totalling 480 fits\n"
          ]
        },
        {
          "output_type": "stream",
          "name": "stderr",
          "text": [
            "[Parallel(n_jobs=-1)]: Using backend LokyBackend with 2 concurrent workers.\n",
            "[Parallel(n_jobs=-1)]: Done  46 tasks      | elapsed:   13.2s\n",
            "[Parallel(n_jobs=-1)]: Done 196 tasks      | elapsed:  1.0min\n",
            "[Parallel(n_jobs=-1)]: Done 446 tasks      | elapsed:  4.2min\n",
            "[Parallel(n_jobs=-1)]: Done 480 out of 480 | elapsed:  4.6min finished\n"
          ]
        },
        {
          "output_type": "stream",
          "name": "stdout",
          "text": [
            "CPU times: user 12.9 s, sys: 304 ms, total: 13.2 s\n",
            "Wall time: 4min 41s\n"
          ]
        },
        {
          "output_type": "execute_result",
          "data": {
            "text/plain": [
              "GridSearchCV(cv=4, error_score=nan,\n",
              "             estimator=RandomForestClassifier(bootstrap=True, ccp_alpha=0.0,\n",
              "                                              class_weight=None,\n",
              "                                              criterion='gini', max_depth=None,\n",
              "                                              max_features='auto',\n",
              "                                              max_leaf_nodes=None,\n",
              "                                              max_samples=None,\n",
              "                                              min_impurity_decrease=0.0,\n",
              "                                              min_impurity_split=None,\n",
              "                                              min_samples_leaf=1,\n",
              "                                              min_samples_split=2,\n",
              "                                              min_weight_fraction_leaf=0.0,\n",
              "                                              n_estimators=100, n_jobs=-1,\n",
              "                                              oob_score=False, random_state=42,\n",
              "                                              verbose=0, warm_start=False),\n",
              "             iid='deprecated', n_jobs=-1,\n",
              "             param_grid={'max_depth': [2, 3, 5, 10, 20],\n",
              "                         'min_samples_leaf': [5, 10, 20, 50, 100, 200],\n",
              "                         'n_estimators': [10, 25, 50, 100]},\n",
              "             pre_dispatch='2*n_jobs', refit=True, return_train_score=False,\n",
              "             scoring='accuracy', verbose=1)"
            ]
          },
          "metadata": {},
          "execution_count": 86
        }
      ]
    },
    {
      "cell_type": "code",
      "metadata": {
        "id": "sgdPNnUH6EQi",
        "colab": {
          "base_uri": "https://localhost:8080/"
        },
        "outputId": "a1e34367-e24b-4738-94e0-d3a60cca04b0"
      },
      "source": [
        "grid_search.best_score_"
      ],
      "execution_count": 87,
      "outputs": [
        {
          "output_type": "execute_result",
          "data": {
            "text/plain": [
              "0.7624019235636549"
            ]
          },
          "metadata": {},
          "execution_count": 87
        }
      ]
    },
    {
      "cell_type": "code",
      "metadata": {
        "id": "EYvZODxTMigy",
        "colab": {
          "base_uri": "https://localhost:8080/"
        },
        "outputId": "ff6e160b-544a-4591-a055-14b7435fd6df"
      },
      "source": [
        "rf_best = grid_search.best_estimator_\n",
        "rf_best"
      ],
      "execution_count": 88,
      "outputs": [
        {
          "output_type": "execute_result",
          "data": {
            "text/plain": [
              "RandomForestClassifier(bootstrap=True, ccp_alpha=0.0, class_weight=None,\n",
              "                       criterion='gini', max_depth=20, max_features='auto',\n",
              "                       max_leaf_nodes=None, max_samples=None,\n",
              "                       min_impurity_decrease=0.0, min_impurity_split=None,\n",
              "                       min_samples_leaf=5, min_samples_split=2,\n",
              "                       min_weight_fraction_leaf=0.0, n_estimators=100,\n",
              "                       n_jobs=-1, oob_score=False, random_state=42, verbose=0,\n",
              "                       warm_start=False)"
            ]
          },
          "metadata": {},
          "execution_count": 88
        }
      ]
    },
    {
      "cell_type": "markdown",
      "metadata": {
        "id": "qurpC_WjZZsl"
      },
      "source": [
        "## Evalution Score of Random Forest with Hyperparameter Tuning"
      ]
    },
    {
      "cell_type": "code",
      "metadata": {
        "id": "ZRxC6-BeZfH-",
        "colab": {
          "base_uri": "https://localhost:8080/"
        },
        "outputId": "632ff77c-b050-4a64-f3f5-cf179da2caec"
      },
      "source": [
        "y_train_pred = rf_best.predict(X_train)\n",
        "y_test_pred = rf_best.predict(X_test)\n",
        "print(classification_report(y_test, y_test_pred,target_names=target_names))"
      ],
      "execution_count": 89,
      "outputs": [
        {
          "output_type": "stream",
          "name": "stdout",
          "text": [
            "                             precision    recall  f1-score   support\n",
            "\n",
            "      Bank Account services       0.76      0.90      0.82      1315\n",
            "Credit card or prepaid card       0.72      0.86      0.78      1294\n",
            "                     Others       0.96      0.18      0.30       548\n",
            "            Theft Reporting       0.79      0.80      0.80      1161\n",
            "              Mortgage/Loan       0.86      0.79      0.83       950\n",
            "\n",
            "                   accuracy                           0.77      5268\n",
            "                  macro avg       0.82      0.71      0.71      5268\n",
            "               weighted avg       0.80      0.77      0.75      5268\n",
            "\n"
          ]
        }
      ]
    },
    {
      "cell_type": "markdown",
      "metadata": {
        "id": "hbbdxrbH7KDF"
      },
      "source": [
        "# Using Naive Bayes"
      ]
    },
    {
      "cell_type": "code",
      "metadata": {
        "id": "ksMArp306rz1"
      },
      "source": [
        "from sklearn.naive_bayes import GaussianNB\n",
        "# instantiate the model\n",
        "gnb = GaussianNB()"
      ],
      "execution_count": 90,
      "outputs": []
    },
    {
      "cell_type": "code",
      "metadata": {
        "id": "xHsmg74c_JSn"
      },
      "source": [
        "X_train=X_train.todense()\n",
        "X_test=X_test.todense()"
      ],
      "execution_count": 91,
      "outputs": []
    },
    {
      "cell_type": "code",
      "metadata": {
        "id": "hpcY7UO47Q6k",
        "colab": {
          "base_uri": "https://localhost:8080/"
        },
        "outputId": "f87db861-ec2b-4dec-d6fd-3a280479965f"
      },
      "source": [
        "# fit the model\n",
        "gnb.fit(X_train, y_train)"
      ],
      "execution_count": 92,
      "outputs": [
        {
          "output_type": "execute_result",
          "data": {
            "text/plain": [
              "GaussianNB(priors=None, var_smoothing=1e-09)"
            ]
          },
          "metadata": {},
          "execution_count": 92
        }
      ]
    },
    {
      "cell_type": "code",
      "metadata": {
        "id": "FF3LdPwV7be1",
        "colab": {
          "base_uri": "https://localhost:8080/"
        },
        "outputId": "0908389f-c66c-48cd-a040-a562e491f049"
      },
      "source": [
        "y_pred = gnb.predict(X_test)\n",
        "\n",
        "y_pred"
      ],
      "execution_count": 93,
      "outputs": [
        {
          "output_type": "execute_result",
          "data": {
            "text/plain": [
              "array([0, 0, 4, ..., 1, 0, 3])"
            ]
          },
          "metadata": {},
          "execution_count": 93
        }
      ]
    },
    {
      "cell_type": "markdown",
      "metadata": {
        "id": "K_9EiS9xA23g"
      },
      "source": [
        "### Check accuracy score"
      ]
    },
    {
      "cell_type": "code",
      "metadata": {
        "id": "wuKB6UpQ7gh1",
        "colab": {
          "base_uri": "https://localhost:8080/"
        },
        "outputId": "f26993ac-4ece-4c22-c4ec-b32d06853df8"
      },
      "source": [
        "from sklearn.metrics import accuracy_score\n",
        "\n",
        "print('Model accuracy score: {0:0.4f}'. format(accuracy_score(y_test, y_pred)))"
      ],
      "execution_count": 94,
      "outputs": [
        {
          "output_type": "stream",
          "name": "stdout",
          "text": [
            "Model accuracy score: 0.3464\n"
          ]
        }
      ]
    },
    {
      "cell_type": "code",
      "metadata": {
        "id": "oflB9fLPBdUk",
        "colab": {
          "base_uri": "https://localhost:8080/"
        },
        "outputId": "f6e72b95-fe32-4396-b432-cb679c717dce"
      },
      "source": [
        "from sklearn.metrics import classification_report\n",
        "target_names = [\"Bank Account services\",\"Credit card or prepaid card\",\"Others\",\"Theft Reporting\",\"Mortgage/Loan\"]\n",
        "print(classification_report(y_test, y_pred,target_names=target_names))"
      ],
      "execution_count": 95,
      "outputs": [
        {
          "output_type": "stream",
          "name": "stdout",
          "text": [
            "                             precision    recall  f1-score   support\n",
            "\n",
            "      Bank Account services       0.44      0.28      0.34      1315\n",
            "Credit card or prepaid card       0.38      0.32      0.35      1294\n",
            "                     Others       0.15      0.46      0.23       548\n",
            "            Theft Reporting       0.44      0.32      0.37      1161\n",
            "              Mortgage/Loan       0.50      0.46      0.48       950\n",
            "\n",
            "                   accuracy                           0.35      5268\n",
            "                  macro avg       0.38      0.36      0.35      5268\n",
            "               weighted avg       0.41      0.35      0.36      5268\n",
            "\n"
          ]
        }
      ]
    },
    {
      "cell_type": "markdown",
      "metadata": {
        "id": "6X8FixwgFQJR"
      },
      "source": [
        "# Model Inference\n",
        "\n",
        "#### \"Bank Account services\":0\n",
        "#### \"Credit card or prepaid card\":1\n",
        "####  \"Mortgage/Loan\":2\n",
        "#### \"Theft/Dispute Reporting\":3\n",
        "#### \"Others\":4\n",
        "\n"
      ]
    },
    {
      "cell_type": "code",
      "metadata": {
        "id": "Mrd1BKIEIDcZ"
      },
      "source": [
        "Topic_names = {0:\" Bank Account services\",\n",
        "               1:\"Credit card or prepaid card\",\n",
        "               3:\"Theft/Dispute Reporting\",\n",
        "               4:\"Mortgage/Loan\",\n",
        "               2:\"Others\" }"
      ],
      "execution_count": 96,
      "outputs": []
    },
    {
      "cell_type": "code",
      "metadata": {
        "id": "hjCcaPt-B3fC",
        "colab": {
          "base_uri": "https://localhost:8080/"
        },
        "outputId": "90094a3d-be95-4199-c4da-224972d369e2"
      },
      "source": [
        "my_complaint = \"\"\"Credit card is stolen\"\"\"\n",
        " \n",
        "# Transform the TF-IDF\n",
        "X = vectorizer.transform([my_complaint])\n",
        "# Predict: nmf_features\n",
        "nmf_features = nmf_model.transform(X)\n",
        "print(\"NMF Prediction =\",pd.DataFrame(nmf_features).idxmax(axis=1).map(Topic_names).iloc[0])\n",
        "X = count_vect.transform([my_complaint])\n",
        "nmf_features = gnb.predict(X.todense())\n",
        "print(\"Naive Bayes Model Prediction =\",Topic_names[nmf_features[0]])\n",
        "nmf_features = rf_best.predict(X)\n",
        "print(\"Random Forest Model Prediction =\",Topic_names[nmf_features[0]])\n",
        "nmf_features = dt_best.predict(X)\n",
        "print(\"Decision Tree Model Prediction =\",Topic_names[nmf_features[0]])\n",
        " \n"
      ],
      "execution_count": 97,
      "outputs": [
        {
          "output_type": "stream",
          "name": "stdout",
          "text": [
            "NMF Prediction = Credit card or prepaid card\n",
            "Naive Bayes Model Prediction = Others\n",
            "Random Forest Model Prediction = Credit card or prepaid card\n",
            "Decision Tree Model Prediction = Credit card or prepaid card\n"
          ]
        }
      ]
    },
    {
      "cell_type": "code",
      "metadata": {
        "id": "8q56LedoFhPs",
        "colab": {
          "base_uri": "https://localhost:8080/"
        },
        "outputId": "2f65d88b-bf7e-4618-90ba-c310972182f4"
      },
      "source": [
        "my_complaint = \"\"\"My savings account is debited twice\"\"\"\n",
        " \n",
        "# Transform the TF-IDF\n",
        "X = vectorizer.transform([my_complaint])\n",
        "# Predict: nmf_features\n",
        "nmf_features = nmf_model.transform(X)\n",
        "print(\"NMF Prediction =\",pd.DataFrame(nmf_features).idxmax(axis=1).map(Topic_names).iloc[0])\n",
        "X = count_vect.transform([my_complaint])\n",
        "nmf_features = gnb.predict(X.todense())\n",
        "print(\"Naive Bayes Model Prediction =\",Topic_names[nmf_features[0]])\n",
        "nmf_features = rf_best.predict(X)\n",
        "print(\"Random Forest Model Prediction =\",Topic_names[nmf_features[0]])\n",
        "nmf_features = dt_best.predict(X)\n",
        "print(\"Decision Tree Model Prediction =\",Topic_names[nmf_features[0]])"
      ],
      "execution_count": 98,
      "outputs": [
        {
          "output_type": "stream",
          "name": "stdout",
          "text": [
            "NMF Prediction =  Bank Account services\n",
            "Naive Bayes Model Prediction = Others\n",
            "Random Forest Model Prediction =  Bank Account services\n",
            "Decision Tree Model Prediction =  Bank Account services\n"
          ]
        }
      ]
    },
    {
      "cell_type": "code",
      "metadata": {
        "id": "WSCrqVhOFjVe",
        "colab": {
          "base_uri": "https://localhost:8080/"
        },
        "outputId": "7d27074f-9663-4641-b4a9-190c50d8b30d"
      },
      "source": [
        "my_complaint = \"\"\"Home loan account interest rate is high\"\"\"\n",
        " \n",
        "# Transform the TF-IDF\n",
        "X = vectorizer.transform([my_complaint])\n",
        "# Predict: nmf_features\n",
        "nmf_features = nmf_model.transform(X)\n",
        "print(\"NMF Prediction =\",pd.DataFrame(nmf_features).idxmax(axis=1).map(Topic_names).iloc[0])\n",
        "X = count_vect.transform([my_complaint])\n",
        "nmf_features = gnb.predict(X.todense())\n",
        "print(\"Naive Bayes Model Prediction =\",Topic_names[nmf_features[0]])\n",
        "nmf_features = rf_best.predict(X)\n",
        "print(\"Random Forest Model Prediction =\",Topic_names[nmf_features[0]])\n",
        "nmf_features = dt_best.predict(X)\n",
        "print(\"Decision Tree Model Prediction =\",Topic_names[nmf_features[0]])"
      ],
      "execution_count": 99,
      "outputs": [
        {
          "output_type": "stream",
          "name": "stdout",
          "text": [
            "NMF Prediction = Mortgage/Loan\n",
            "Naive Bayes Model Prediction = Others\n",
            "Random Forest Model Prediction = Mortgage/Loan\n",
            "Decision Tree Model Prediction = Mortgage/Loan\n"
          ]
        }
      ]
    },
    {
      "cell_type": "code",
      "metadata": {
        "id": "1SXddEVrG-m8",
        "colab": {
          "base_uri": "https://localhost:8080/"
        },
        "outputId": "179fdda5-52ff-47c8-d9b3-7f1e3ab3b12b"
      },
      "source": [
        "my_complaint = \"\"\"Dispute on my credit card transaction\"\"\"\n",
        " \n",
        "# Transform the TF-IDF\n",
        "X = vectorizer.transform([my_complaint])\n",
        "# Predict: nmf_features\n",
        "nmf_features = nmf_model.transform(X)\n",
        "print(\"NMF Prediction =\",pd.DataFrame(nmf_features).idxmax(axis=1).map(Topic_names).iloc[0])\n",
        "X = count_vect.transform([my_complaint])\n",
        "nmf_features = gnb.predict(X.todense())\n",
        "print(\"Naive Bayes Model Prediction =\",Topic_names[nmf_features[0]])\n",
        "nmf_features = rf_best.predict(X)\n",
        "print(\"Random Forest Model Prediction =\",Topic_names[nmf_features[0]])\n",
        "nmf_features = dt_best.predict(X)\n",
        "print(\"Decision Tree Model Prediction =\",Topic_names[nmf_features[0]])"
      ],
      "execution_count": 100,
      "outputs": [
        {
          "output_type": "stream",
          "name": "stdout",
          "text": [
            "NMF Prediction = Credit card or prepaid card\n",
            "Naive Bayes Model Prediction = Others\n",
            "Random Forest Model Prediction = Credit card or prepaid card\n",
            "Decision Tree Model Prediction = Credit card or prepaid card\n"
          ]
        }
      ]
    },
    {
      "cell_type": "code",
      "metadata": {
        "id": "L8UC3AqAIc9w",
        "colab": {
          "base_uri": "https://localhost:8080/"
        },
        "outputId": "7d3e754c-3df1-43aa-8113-e1857b00a281"
      },
      "source": [
        "my_complaint = \"\"\"xxxx is good\"\"\"\n",
        " \n",
        "# Transform the TF-IDF\n",
        "X = vectorizer.transform([my_complaint])\n",
        "# Predict: nmf_features\n",
        "nmf_features = nmf_model.transform(X)\n",
        "print(\"NMF Prediction =\",pd.DataFrame(nmf_features).idxmax(axis=1).map(Topic_names).iloc[0])\n",
        "X = count_vect.transform([my_complaint])\n",
        "nmf_features = gnb.predict(X.todense())\n",
        "print(\"Naive Bayes Model Prediction =\",Topic_names[nmf_features[0]])\n",
        "nmf_features = rf_best.predict(X)\n",
        "print(\"Random Forest Model Prediction =\",Topic_names[nmf_features[0]])\n",
        "nmf_features = dt_best.predict(X)\n",
        "print(\"Decision Tree Model Prediction =\",Topic_names[nmf_features[0]])"
      ],
      "execution_count": 101,
      "outputs": [
        {
          "output_type": "stream",
          "name": "stdout",
          "text": [
            "NMF Prediction = Theft/Dispute Reporting\n",
            "Naive Bayes Model Prediction = Others\n",
            "Random Forest Model Prediction = Credit card or prepaid card\n",
            "Decision Tree Model Prediction = Mortgage/Loan\n"
          ]
        }
      ]
    },
    {
      "cell_type": "markdown",
      "metadata": {
        "id": "7pHZ1Khp4KE1"
      },
      "source": [
        "# Conclusion\n",
        "\n",
        "#### ***-Decision Tree Model is good in prediction with 81% accuracy***\n",
        "#### ***-Random Forest is better in prediction with 77% accuracy***\n",
        "#### ***-Naive Bayes is not doing good with 35% accuracy***"
      ]
    }
  ]
}